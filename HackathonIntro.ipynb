{
 "cells": [
  {
   "cell_type": "markdown",
   "metadata": {},
   "source": [
    "### Advanced Notebook: Requesting the catalog client\n",
    "In Terrascope, you can request the catalog client to retrieve the various products that are stored. Below we start with importing the necessary packages for putting the requests, as well as the other more standard packages.\n"
   ]
  },
  {
   "cell_type": "code",
   "execution_count": 1,
   "metadata": {},
   "outputs": [],
   "source": [
    "from catalogclient import catalog                         # to interrogate the catalog - this is the one you need to interrogate the Terrascope catalog\n",
    "import datetime as dt                                     # date and time functions  \n",
    "import re                                                 # to parse strings\n",
    "import os                                                 # operating system functions\n",
    "from xml.etree import ElementTree as ET                   # XML parsing\n",
    "import rasterio                                           # raster files \n",
    "import matplotlib.pyplot as mplot                         # plotting functions\n",
    "from mpl_toolkits.axes_grid1 import make_axes_locatable   # more plotting functions\n",
    "import seaborn as sns                                     # extended plotting possibilities wrt matplotlib\n",
    "import glob                                               # alternative to using os, file/directory searches etc.\n",
    "import numpy as np                                        # standard Python numpy\n",
    "import sys                                                # standard Python system package\n"
   ]
  },
  {
   "cell_type": "markdown",
   "metadata": {},
   "source": [
    "### Product types"
   ]
  },
  {
   "cell_type": "markdown",
   "metadata": {},
   "source": [
    "#### Terrascope Sentinel Product types\n",
    "First, we have a look at the different Sentinel Product Types available in the catalog."
   ]
  },
  {
   "cell_type": "code",
   "execution_count": 2,
   "metadata": {},
   "outputs": [
    {
     "name": "stdout",
     "output_type": "stream",
     "text": [
      "BioPar_ALB_BHV_V1_Tiles\n",
      "BioPar_ALB_DHV_V1_Tiles\n",
      "BioPar_ALBH_V1_Global\n",
      "BioPar_BA_V1_Tiles\n",
      "BioPar_DMP_Tiles\n",
      "BioPar_DMP300_V1_Global\n",
      "BioPar_FAPAR_V1_Tiles\n",
      "BioPar_FAPAR_V1_Global\n",
      "BioPar_FAPAR_V2_Global\n",
      "BioPar_FCOVER_V1_Tiles\n",
      "BioPar_FCOVER_V1_Global\n",
      "BioPar_FCOVER_V2_Global\n",
      "BioPar_LAI_V1_Tiles\n",
      "BioPar_LAI_V1_Global\n",
      "BioPar_LAI_V2_Global\n",
      "BioPar_NDVI300_V1_Global\n",
      "BioPar_NDVI300_V1_Global_GTIFF\n",
      "BioPar_BA300_V1_Global\n",
      "BioPar_FCOVER300_V1_Global\n",
      "BioPar_FAPAR300_V1_Global\n",
      "BioPar_LAI300_V1_Global\n",
      "BioPar_NDVI_V1_Tiles\n",
      "BioPar_NDVI_V2_Tiles\n",
      "BioPar_NDVI_V2_Global\n",
      "BioPar_SWI\n",
      "BioPar_SWI10_V3_Global\n",
      "BioPar_TOCR_Tiles\n",
      "BioPar_VCI_Tiles\n",
      "BioPar_VPI_Tiles\n",
      "BioPar_WB_V1_Tiles\n",
      "BioPar_WB_V2_Tiles\n",
      "BioPar_WB_V2_Global\n",
      "BioPar_WB300_V1_Global\n",
      "PROBAV_L3_S1_TOC_1KM\n",
      "PROBAV_L3_S1_TOC_333M\n",
      "PROBAV_L3_S10_TOC_333M\n",
      "PROBAV_L3_S5_TOC_100M\n",
      "PROBAV_L3_S1_TOC_100M\n",
      "PROBAV_L3_S10_TOC_1KM\n",
      "PROBAV_L3_S1_TOA_1KM\n",
      "PROBAV_L3_S1_TOA_333M\n",
      "PROBAV_L3_S5_TOA_100M\n",
      "PROBAV_L3_S1_TOA_100M\n",
      "PROBAV_L1C\n",
      "PROBAV_L2A_1KM\n",
      "PROBAV_L2A_333M\n",
      "PROBAV_L2A_100M\n",
      "PROBAV_L3_S10_TOC_NDVI_1KM\n",
      "PROBAV_L3_S10_TOC_NDVI_333M\n",
      "PROBAV_L3_S1_TOC_NDVI_100M\n",
      "PROBAV_L3_S5_TOC_NDVI_100M\n",
      "PROBAV_L2A_1KM_ANTAR\n",
      "PROBAV_L2A_333M_ANTAR\n",
      "PROBAV_L2A_100M_ANTAR\n",
      "CGS_S2_FAPAR\n",
      "CGS_S2_FAPAR_10M\n",
      "CGS_S2_FAPAR_20M\n",
      "CGS_S2_NDVI\n",
      "CGS_S2_NDVI_10M\n",
      "CGS_S2_LAI\n",
      "CGS_S2_LAI_10M\n",
      "CGS_S2_LAI_20M\n",
      "CGS_S2_FCOVER\n",
      "CGS_S2_FCOVER_10M\n",
      "CGS_S2_FCOVER_20M\n",
      "CGS_S2_CCC_10M\n",
      "CGS_S2_CCC_20M\n",
      "CGS_S2_CWC_10M\n",
      "CGS_S2_CWC_20M\n",
      "CGS_S2_RADIOMETRY\n",
      "CGS_S2_RADIOMETRY_10M\n",
      "CGS_S2_RADIOMETRY_20M\n",
      "CGS_S2_RADIOMETRY_60M\n",
      "CGS_S1_GRD_SIGMA0_L1\n",
      "CGS_S1_SLC_L1\n",
      "CGS_S1_GRD_L1\n",
      "NEXTGEOSS_SENTINEL2_FAPAR\n",
      "NEXTGEOSS_SENTINEL2_NDVI\n",
      "NEXTGEOSS_SENTINEL2_LAI\n",
      "NEXTGEOSS_SENTINEL2_FCOVER\n",
      "NEXTGEOSS_SENTINEL2_RADIOMETRY\n",
      "FSTEP_SENTINEL2_FAPAR\n",
      "FSTEP_SENTINEL2_NDVI\n",
      "FSTEP_SENTINEL2_LAI\n",
      "FSTEP_SENTINEL2_FCOVER\n",
      "FSTEP_SENTINEL2_RADIOMETRY\n",
      "SPOTVEGETATION_L3_S1\n",
      "SPOTVEGETATION_L3_S10\n"
     ]
    }
   ],
   "source": [
    "cat=catalog.Catalog()\n",
    "listOfProducttypes = cat.get_producttypes()\n",
    "for p in listOfProducttypes:\n",
    "    print(p)"
   ]
  },
  {
   "cell_type": "markdown",
   "metadata": {},
   "source": [
    "That is a lot of product types. We are only interested in the Sentinel products. These are prefixed with 'CGS', so let's filter them out"
   ]
  },
  {
   "cell_type": "code",
   "execution_count": 3,
   "metadata": {},
   "outputs": [
    {
     "data": {
      "text/plain": [
       "['CGS_S2_FAPAR',\n",
       " 'CGS_S2_FAPAR_10M',\n",
       " 'CGS_S2_FAPAR_20M',\n",
       " 'CGS_S2_NDVI',\n",
       " 'CGS_S2_NDVI_10M',\n",
       " 'CGS_S2_LAI',\n",
       " 'CGS_S2_LAI_10M',\n",
       " 'CGS_S2_LAI_20M',\n",
       " 'CGS_S2_FCOVER',\n",
       " 'CGS_S2_FCOVER_10M',\n",
       " 'CGS_S2_FCOVER_20M',\n",
       " 'CGS_S2_CCC_10M',\n",
       " 'CGS_S2_CCC_20M',\n",
       " 'CGS_S2_CWC_10M',\n",
       " 'CGS_S2_CWC_20M',\n",
       " 'CGS_S2_RADIOMETRY',\n",
       " 'CGS_S2_RADIOMETRY_10M',\n",
       " 'CGS_S2_RADIOMETRY_20M',\n",
       " 'CGS_S2_RADIOMETRY_60M',\n",
       " 'CGS_S1_GRD_SIGMA0_L1',\n",
       " 'CGS_S1_SLC_L1',\n",
       " 'CGS_S1_GRD_L1']"
      ]
     },
     "execution_count": 3,
     "metadata": {},
     "output_type": "execute_result"
    }
   ],
   "source": [
    "listOfTerrascopeSentinelProducttypes = list(filter(lambda f: 'CGS' in f,listOfProducttypes))\n",
    "listOfTerrascopeSentinelProducttypes"
   ]
  },
  {
   "cell_type": "markdown",
   "metadata": {},
   "source": [
    "S1 and S2 relate to the Sentinel satellites; the Sentinel-2 products are also split up per resolution. This is not just a change in spatial resolution:\n",
    "* the 10 m resolution FAPAR, LAI and FCOVER indices use just the 10m band information \n",
    "* the 20 m resolution FAPAR, LAI and FCOVER indices use 10 m <b>and</b> 20 m band information\n",
    "\n",
    "The S2 products that have no resolution suffix are legacy products that will be discontinued.\n",
    "\n",
    "#### Looking for Terrascope PROBA-V product types\n",
    "PROBA-V monitors the Earth's vegetation every day at 100 m (center camera only), 300 m, and 1 km resolution, with daily coverage poleward of 35$^o$ latitude.\n",
    "\n",
    "These products have a 'PROBAV' prefix"
   ]
  },
  {
   "cell_type": "code",
   "execution_count": 4,
   "metadata": {},
   "outputs": [
    {
     "data": {
      "text/plain": [
       "['PROBAV_L3_S1_TOC_1KM',\n",
       " 'PROBAV_L3_S1_TOC_333M',\n",
       " 'PROBAV_L3_S10_TOC_333M',\n",
       " 'PROBAV_L3_S5_TOC_100M',\n",
       " 'PROBAV_L3_S1_TOC_100M',\n",
       " 'PROBAV_L3_S10_TOC_1KM',\n",
       " 'PROBAV_L3_S1_TOA_1KM',\n",
       " 'PROBAV_L3_S1_TOA_333M',\n",
       " 'PROBAV_L3_S5_TOA_100M',\n",
       " 'PROBAV_L3_S1_TOA_100M',\n",
       " 'PROBAV_L1C',\n",
       " 'PROBAV_L2A_1KM',\n",
       " 'PROBAV_L2A_333M',\n",
       " 'PROBAV_L2A_100M',\n",
       " 'PROBAV_L3_S10_TOC_NDVI_1KM',\n",
       " 'PROBAV_L3_S10_TOC_NDVI_333M',\n",
       " 'PROBAV_L3_S1_TOC_NDVI_100M',\n",
       " 'PROBAV_L3_S5_TOC_NDVI_100M',\n",
       " 'PROBAV_L2A_1KM_ANTAR',\n",
       " 'PROBAV_L2A_333M_ANTAR',\n",
       " 'PROBAV_L2A_100M_ANTAR']"
      ]
     },
     "execution_count": 4,
     "metadata": {},
     "output_type": "execute_result"
    }
   ],
   "source": [
    "listOfTerrascopePROBAVProducttypes = list(filter(lambda f: 'PROBAV' in f,listOfProducttypes))\n",
    "listOfTerrascopePROBAVProducttypes"
   ]
  },
  {
   "cell_type": "markdown",
   "metadata": {},
   "source": [
    "* Level 1 data (L1C) are individual Top-of-Atmosphere (TOA) unprojected segments (a part of the orbit from North to South, just covering land areas)\n",
    "* Level 2 data (L2A) are individual Top-of-Atmosphere projected segments at different resolutions (100 m, 300 m and 1 km)\n",
    "* Level 3 data (L3) are \n",
    "    * composites (collection of segments, covering the Earth)\n",
    "    * using 1 (S1) , 5 (100 m) or 10 days (300 m and 1 km) of observation\n",
    "    * Top-of-Atmosphere or Top-of-Canopy (TOC, corrected for the atmospheric reflectance/absorption contribution)\n"
   ]
  },
  {
   "cell_type": "markdown",
   "metadata": {},
   "source": [
    "#### Looking for SPOT-VEGETATION product types\n",
    "The same as for PROBA-V can be done for the SPOT-VGT products. Their prefix is 'SPOTVEGETATION'"
   ]
  },
  {
   "cell_type": "code",
   "execution_count": 5,
   "metadata": {},
   "outputs": [
    {
     "data": {
      "text/plain": [
       "['SPOTVEGETATION_L3_S1', 'SPOTVEGETATION_L3_S10']"
      ]
     },
     "execution_count": 5,
     "metadata": {},
     "output_type": "execute_result"
    }
   ],
   "source": [
    "listOfTerrascopeSPOTVGTProducttypes = list(filter(lambda f: 'SPOTVEGETATION' in f,listOfProducttypes))\n",
    "listOfTerrascopeSPOTVGTProducttypes"
   ]
  },
  {
   "cell_type": "markdown",
   "metadata": {},
   "source": [
    "So, here we have only L3 data: composites at 1 km resolution with comprising periods of 1 or 10 days."
   ]
  },
  {
   "cell_type": "markdown",
   "metadata": {},
   "source": [
    "### Products\n",
    "\n",
    "#### Sentinel products\n",
    "Now we know which product types are available, we can interrogate the catalog to see how many products there are per product type"
   ]
  },
  {
   "cell_type": "code",
   "execution_count": 6,
   "metadata": {},
   "outputs": [
    {
     "name": "stdout",
     "output_type": "stream",
     "text": [
      "CGS_S2_FAPAR: 3218 products (04/07/2015 - 22/10/2019)\n",
      "CGS_S2_FAPAR_10M: 3218 products (04/07/2015 - 22/10/2019)\n",
      "CGS_S2_FAPAR_20M: 3218 products (04/07/2015 - 22/10/2019)\n",
      "CGS_S2_NDVI: 3167 products (04/07/2015 - 22/10/2019)\n",
      "CGS_S2_NDVI_10M: 3167 products (04/07/2015 - 22/10/2019)\n",
      "CGS_S2_LAI: 3216 products (04/07/2015 - 22/10/2019)\n",
      "CGS_S2_LAI_10M: 3216 products (04/07/2015 - 22/10/2019)\n",
      "CGS_S2_LAI_20M: 3216 products (04/07/2015 - 22/10/2019)\n",
      "CGS_S2_FCOVER: 3217 products (04/07/2015 - 22/10/2019)\n",
      "CGS_S2_FCOVER_10M: 3217 products (04/07/2015 - 22/10/2019)\n",
      "CGS_S2_FCOVER_20M: 3217 products (04/07/2015 - 22/10/2019)\n",
      "CGS_S2_CCC_10M: 3217 products (04/07/2015 - 22/10/2019)\n",
      "CGS_S2_CCC_20M: 3217 products (04/07/2015 - 22/10/2019)\n",
      "CGS_S2_CWC_10M: 3217 products (04/07/2015 - 22/10/2019)\n",
      "CGS_S2_CWC_20M: 3217 products (04/07/2015 - 22/10/2019)\n",
      "CGS_S2_RADIOMETRY: 3167 products (04/07/2015 - 22/10/2019)\n",
      "CGS_S2_RADIOMETRY_10M: 3167 products (04/07/2015 - 22/10/2019)\n",
      "CGS_S2_RADIOMETRY_20M: 3167 products (04/07/2015 - 22/10/2019)\n",
      "CGS_S2_RADIOMETRY_60M: 3167 products (04/07/2015 - 22/10/2019)\n",
      "CGS_S1_GRD_SIGMA0_L1: 4046 products (03/01/2015 - 23/10/2019)\n",
      "CGS_S1_SLC_L1: 4130 products (03/01/2015 - 23/10/2019)\n",
      "CGS_S1_GRD_L1: 4084 products (03/01/2015 - 23/10/2019)\n"
     ]
    }
   ],
   "source": [
    "for pt in listOfTerrascopeSentinelProducttypes:\n",
    "    listOfTimes = cat.get_times(pt) \n",
    "    NumberofAcquisitions = len(listOfTimes)\n",
    "    \n",
    "    if NumberofAcquisitions > 0 :\n",
    "        print('{}: {} products ({} - {})'.format(pt,NumberofAcquisitions,\n",
    "                                                     str(min(listOfTimes))[8:10] +'/'+ str(min(listOfTimes))[5:7]+'/'+str(min(listOfTimes))[:4],\n",
    "                                                     str(max(listOfTimes))[8:10] +'/'+ str(max(listOfTimes))[5:7]+'/'+str(max(listOfTimes))[:4]))\n",
    "    else:\n",
    "        print('{}: {} products'.format(pt,NumberofAcquisitions))\n",
    "    \n"
   ]
  },
  {
   "cell_type": "markdown",
   "metadata": {},
   "source": [
    "#### PROBA-V products\n",
    "Similar to the list provided for Sentinel, the number of PROBA-V products is requested."
   ]
  },
  {
   "cell_type": "code",
   "execution_count": 7,
   "metadata": {},
   "outputs": [
    {
     "name": "stdout",
     "output_type": "stream",
     "text": [
      "PROBAV_L3_S1_TOC_1KM: 2195 products (15/10/2013 - 22/10/2019)\n",
      "PROBAV_L3_S1_TOC_333M: 2195 products (15/10/2013 - 22/10/2019)\n",
      "PROBAV_L3_S10_TOC_333M: 217 products (11/10/2013 - 11/10/2019)\n",
      "PROBAV_L3_S5_TOC_100M: 404 products (11/03/2014 - 16/10/2019)\n",
      "PROBAV_L3_S1_TOC_100M: 2047 products (12/03/2014 - 22/10/2019)\n",
      "PROBAV_L3_S10_TOC_1KM: 217 products (11/10/2013 - 11/10/2019)\n",
      "PROBAV_L3_S1_TOA_1KM: 2195 products (15/10/2013 - 22/10/2019)\n",
      "PROBAV_L3_S1_TOA_333M: 2195 products (15/10/2013 - 22/10/2019)\n",
      "PROBAV_L3_S5_TOA_100M: 404 products (11/03/2014 - 16/10/2019)\n",
      "PROBAV_L3_S1_TOA_100M: 2047 products (12/03/2014 - 22/10/2019)\n",
      "PROBAV_L1C: 187479 products (15/10/2013 - 23/10/2019)\n",
      "PROBAV_L2A_1KM: 181384 products (15/10/2013 - 23/10/2019)\n",
      "PROBAV_L2A_333M: 181384 products (15/10/2013 - 23/10/2019)\n",
      "PROBAV_L2A_100M: 59461 products (11/03/2014 - 23/10/2019)\n",
      "PROBAV_L3_S10_TOC_NDVI_1KM: 217 products (11/10/2013 - 11/10/2019)\n",
      "PROBAV_L3_S10_TOC_NDVI_333M: 217 products (11/10/2013 - 11/10/2019)\n",
      "PROBAV_L3_S1_TOC_NDVI_100M: 2050 products (12/03/2014 - 22/10/2019)\n",
      "PROBAV_L3_S5_TOC_NDVI_100M: 404 products (11/03/2014 - 16/10/2019)\n",
      "PROBAV_L2A_1KM_ANTAR: 3197 products (24/10/2017 - 18/02/2019)\n",
      "PROBAV_L2A_333M_ANTAR: 3197 products (24/10/2017 - 18/02/2019)\n",
      "PROBAV_L2A_100M_ANTAR: 2381 products (24/10/2017 - 18/02/2019)\n"
     ]
    }
   ],
   "source": [
    "for pt in listOfTerrascopePROBAVProducttypes:\n",
    "    listOfTimes = cat.get_times(pt) \n",
    "    NumberofAcquisitions = len(listOfTimes)\n",
    "    \n",
    "    if NumberofAcquisitions > 0 :\n",
    "        print('{}: {} products ({} - {})'.format(pt,NumberofAcquisitions,\n",
    "                                                     str(min(listOfTimes))[8:10] +'/'+ str(min(listOfTimes))[5:7]+'/'+str(min(listOfTimes))[:4],\n",
    "                                                     str(max(listOfTimes))[8:10] +'/'+ str(max(listOfTimes))[5:7]+'/'+str(max(listOfTimes))[:4]))\n",
    "    else:\n",
    "        print('{}: {} products'.format(pt,NumberofAcquisitions))\n",
    "    "
   ]
  },
  {
   "cell_type": "markdown",
   "metadata": {},
   "source": [
    "#### SPOT-VEGETATION products\n",
    "\n",
    "And finally, for SPOT-VEGETATION as well. These are all archive images; the mission stopped delivering data early June 2014"
   ]
  },
  {
   "cell_type": "code",
   "execution_count": 8,
   "metadata": {},
   "outputs": [
    {
     "name": "stdout",
     "output_type": "stream",
     "text": [
      "SPOTVEGETATION_L3_S1: 5901 products (01/04/1998 - 02/06/2014)\n",
      "SPOTVEGETATION_L3_S10: 583 products (01/04/1998 - 01/06/2014)\n"
     ]
    }
   ],
   "source": [
    "for pt in listOfTerrascopeSPOTVGTProducttypes:\n",
    "    listOfTimes = cat.get_times(pt) \n",
    "    NumberofAcquisitions = len(listOfTimes)\n",
    "    \n",
    "    if NumberofAcquisitions > 0 :\n",
    "        print('{}: {} products ({} - {})'.format(pt,NumberofAcquisitions,\n",
    "                                                     str(min(listOfTimes))[8:10] +'/'+ str(min(listOfTimes))[5:7]+'/'+str(min(listOfTimes))[:4],\n",
    "                                                     str(max(listOfTimes))[8:10] +'/'+ str(max(listOfTimes))[5:7]+'/'+str(max(listOfTimes))[:4]))\n",
    "    else:\n",
    "        print('{}: {} products'.format(pt,NumberofAcquisitions))"
   ]
  },
  {
   "cell_type": "markdown",
   "metadata": {},
   "source": [
    "#### Products in a selected area, within a predefined time window\n",
    "\n",
    "It's all very well to know that there are many products, but you need to find the ones that are of interest to you.\n",
    "\n",
    "To narrow down, below we provide a list of Sentinel products for a pre-defined time window over a selected area.\n",
    "In this case, we want to select the GEOTiff fAPAR data for 1 - 5 July 2018 for the region 51 - 52$^o$N, 4 - 5$^o$E."
   ]
  },
  {
   "cell_type": "code",
   "execution_count": 9,
   "metadata": {},
   "outputs": [
    {
     "name": "stdout",
     "output_type": "stream",
     "text": [
      "CGS_S2_FAPAR_10M_-1_-1_2018-07-02 10:40:21\n",
      "CGS_S2_FAPAR_10M_-1_-1_2018-07-05 10:54:27\n",
      "CGS_S2_FAPAR_10M_-1_-1_2018-07-05 10:54:27\n",
      "CGS_S2_FAPAR_10M_-1_-1_2018-07-02 10:40:21\n",
      "CGS_S2_FAPAR_10M_-1_-1_2018-07-03 10:59:38\n",
      "CGS_S2_FAPAR_10M_-1_-1_2018-07-05 10:54:27\n",
      "CGS_S2_FAPAR_10M_-1_-1_2018-07-02 10:40:21\n",
      "CGS_S2_FAPAR_10M_-1_-1_2018-07-03 10:59:38\n",
      "CGS_S2_FAPAR_10M_-1_-1_2018-07-05 10:54:27\n"
     ]
    }
   ],
   "source": [
    "productName = 'CGS_S2_FAPAR_10M' # choose any product type in the lists we made earlier\n",
    "startDate = dt.date(2018,7,1)\n",
    "endDate = dt.date(2018,7,5)\n",
    "minLatitude = 51 #in decimal degrees, positive for North\n",
    "maxLatitude = 52\n",
    "minLongitude = 4 #in decimal degrees, positive for East\n",
    "maxLongitude = 5\n",
    "\n",
    "#get the list of products\n",
    "listOfProducts = cat.get_products (productName, \n",
    "                            fileformat='GEOTIFF', \n",
    "                            startdate=startDate, \n",
    "                            enddate=endDate, \n",
    "                            min_lon=minLongitude, \n",
    "                            max_lon=maxLongitude, \n",
    "                            min_lat=minLatitude, \n",
    "                            max_lat=maxLatitude)\n",
    "for p in listOfProducts:\n",
    "    print(p)"
   ]
  },
  {
   "cell_type": "markdown",
   "metadata": {},
   "source": [
    "This is not very informative, so we'll have to dig deeper.\n",
    "A product can have a number of bands, and those are stored in files.\n",
    "While we're at it, let's extract some usefull information as well."
   ]
  },
  {
   "cell_type": "code",
   "execution_count": 10,
   "metadata": {
    "scrolled": true
   },
   "outputs": [
    {
     "name": "stdout",
     "output_type": "stream",
     "text": [
      "Tile  Date       Time     Res Product\n",
      "----- ---------- -------- --- -------\n",
      "31UFT 2018-07-02 10:40:21 10M FAPAR SHADOWMASK\n",
      "31UFT 2018-07-02 10:40:21 10M FAPAR SCENECLASSIFICATION\n",
      "31UFT 2018-07-02 10:40:21 10M FAPAR CLOUDMASK\n",
      "31UFT 2018-07-02 10:40:21 10M FAPAR FAPAR\n",
      "31UET 2018-07-05 10:54:27 10M FAPAR SHADOWMASK\n",
      "31UET 2018-07-05 10:54:27 10M FAPAR CLOUDMASK\n",
      "31UET 2018-07-05 10:54:27 10M FAPAR SCENECLASSIFICATION\n",
      "31UET 2018-07-05 10:54:27 10M FAPAR FAPAR\n",
      "31UFS 2018-07-05 10:54:27 10M FAPAR FAPAR\n",
      "31UFS 2018-07-05 10:54:27 10M FAPAR CLOUDMASK\n",
      "31UFS 2018-07-05 10:54:27 10M FAPAR SHADOWMASK\n",
      "31UFS 2018-07-05 10:54:27 10M FAPAR SCENECLASSIFICATION\n",
      "31UES 2018-07-02 10:40:21 10M FAPAR CLOUDMASK\n",
      "31UES 2018-07-02 10:40:21 10M FAPAR SCENECLASSIFICATION\n",
      "31UES 2018-07-02 10:40:21 10M FAPAR SHADOWMASK\n",
      "31UES 2018-07-02 10:40:21 10M FAPAR FAPAR\n",
      "31UES 2018-07-03 10:59:38 10M FAPAR SCENECLASSIFICATION\n",
      "31UES 2018-07-03 10:59:38 10M FAPAR FAPAR\n",
      "31UES 2018-07-03 10:59:38 10M FAPAR SHADOWMASK\n",
      "31UES 2018-07-03 10:59:38 10M FAPAR CLOUDMASK\n",
      "31UFT 2018-07-05 10:54:27 10M FAPAR SHADOWMASK\n",
      "31UFT 2018-07-05 10:54:27 10M FAPAR SCENECLASSIFICATION\n",
      "31UFT 2018-07-05 10:54:27 10M FAPAR FAPAR\n",
      "31UFT 2018-07-05 10:54:27 10M FAPAR CLOUDMASK\n",
      "31UFS 2018-07-02 10:40:21 10M FAPAR SCENECLASSIFICATION\n",
      "31UFS 2018-07-02 10:40:21 10M FAPAR FAPAR\n",
      "31UFS 2018-07-02 10:40:21 10M FAPAR CLOUDMASK\n",
      "31UFS 2018-07-02 10:40:21 10M FAPAR SHADOWMASK\n",
      "31UET 2018-07-03 10:59:38 10M FAPAR SCENECLASSIFICATION\n",
      "31UET 2018-07-03 10:59:38 10M FAPAR FAPAR\n",
      "31UET 2018-07-03 10:59:38 10M FAPAR SHADOWMASK\n",
      "31UET 2018-07-03 10:59:38 10M FAPAR CLOUDMASK\n",
      "31UES 2018-07-05 10:54:27 10M FAPAR CLOUDMASK\n",
      "31UES 2018-07-05 10:54:27 10M FAPAR FAPAR\n",
      "31UES 2018-07-05 10:54:27 10M FAPAR SHADOWMASK\n",
      "31UES 2018-07-05 10:54:27 10M FAPAR SCENECLASSIFICATION\n"
     ]
    }
   ],
   "source": [
    "nbands = 0\n",
    "productList=[]\n",
    "\n",
    "#loop over products\n",
    "for p in listOfProducts:\n",
    "    # as you can see above, the product is described with parts that are separated with underscores, so we split them up\n",
    "    # productelements is then a list of the parts\n",
    "    productelements=re.split(\"_\",str(p))  \n",
    "    # p.bands() returns a list of different bands. You should not take this too literally. For the RADIOMETRY product, the spectral bands are part of this,\n",
    "    # but there are other items as well. Examples are : cloud and cloud shadow masks.\n",
    "    nbands=nbands + len(p.bands())\n",
    "    \n",
    "    #loop over bands\n",
    "    for b in p.bands():\n",
    "        productdetails=[]\n",
    "        productdetails.append(productelements[2])  # product name\n",
    "        productdetails.append(productelements[3])  # resolution\n",
    "        productdetails.append(productelements[-1]) # datetime\n",
    "        productdetails.append(p.file(b)[5:]) # file path; the first 5 characters are 'file:', and we have no use for them\n",
    "        # the file path has intesting information as well, when it is about Sentinel-2 data and products\n",
    "        folders=re.split('/',p.file(b)[5:]) #this contains all subsequent folders + the actual filename\n",
    "        items=re.split('_',folders[-1:][0]) #this is the filename itself\n",
    "        \n",
    "        productdetails.append(items[2]) # UTM tile id\n",
    "        productdetails.append(items[3]) # file content\n",
    "        productList.append(productdetails)\n",
    "\n",
    "#once productList is completed, print the results\n",
    "print ('Tile  Date       Time     Res Product')\n",
    "print ('----- ---------- -------- --- -------')\n",
    "for p in productList:\n",
    "    print (p[4], p[2], p[1], p[0], p[5])"
   ]
  },
  {
   "cell_type": "markdown",
   "metadata": {},
   "source": [
    "So, we have following 'bands':\n",
    "* FAPAR - the actual image file with the FAPAR value\n",
    "* SCENECLASSIFICATION - an automatic classification into about 10 classes (see https://earth.esa.int/web/sentinel/technical-guides/sentinel-2-msi/level-2a/algorithm for more info)\n",
    "* CLOUDMASK - a binary file indicating the presence of cloud per pixel\n",
    "* SHADOWMASK - a binary file indicating the presence of cloud shadow per pixel\n",
    "\n",
    "\n",
    "To filter out the proper FAPAR files:"
   ]
  },
  {
   "cell_type": "code",
   "execution_count": 11,
   "metadata": {},
   "outputs": [
    {
     "name": "stdout",
     "output_type": "stream",
     "text": [
      "/data/MTDA/CGS_S2/CGS_S2_FAPAR/2018/07/02/S2B_20180702T104019Z_31UFT_CGS_V102_000/S2B_20180702T104019Z_31UFT_FAPAR_V102/10M/S2B_20180702T104019Z_31UFT_FAPAR_10M_V102.tif\n",
      "/data/MTDA/CGS_S2/CGS_S2_FAPAR/2018/07/05/S2B_20180705T105029Z_31UET_CGS_V102_000/S2B_20180705T105029Z_31UET_FAPAR_V102/10M/S2B_20180705T105029Z_31UET_FAPAR_10M_V102.tif\n",
      "/data/MTDA/CGS_S2/CGS_S2_FAPAR/2018/07/05/S2B_20180705T105029Z_31UFS_CGS_V102_000/S2B_20180705T105029Z_31UFS_FAPAR_V102/10M/S2B_20180705T105029Z_31UFS_FAPAR_10M_V102.tif\n",
      "/data/MTDA/CGS_S2/CGS_S2_FAPAR/2018/07/02/S2B_20180702T104019Z_31UES_CGS_V102_000/S2B_20180702T104019Z_31UES_FAPAR_V102/10M/S2B_20180702T104019Z_31UES_FAPAR_10M_V102.tif\n",
      "/data/MTDA/CGS_S2/CGS_S2_FAPAR/2018/07/03/S2A_20180703T105621Z_31UES_CGS_V102_000/S2A_20180703T105621Z_31UES_FAPAR_V102/10M/S2A_20180703T105621Z_31UES_FAPAR_10M_V102.tif\n",
      "/data/MTDA/CGS_S2/CGS_S2_FAPAR/2018/07/05/S2B_20180705T105029Z_31UFT_CGS_V102_000/S2B_20180705T105029Z_31UFT_FAPAR_V102/10M/S2B_20180705T105029Z_31UFT_FAPAR_10M_V102.tif\n",
      "/data/MTDA/CGS_S2/CGS_S2_FAPAR/2018/07/02/S2B_20180702T104019Z_31UFS_CGS_V102_000/S2B_20180702T104019Z_31UFS_FAPAR_V102/10M/S2B_20180702T104019Z_31UFS_FAPAR_10M_V102.tif\n",
      "/data/MTDA/CGS_S2/CGS_S2_FAPAR/2018/07/03/S2A_20180703T105621Z_31UET_CGS_V102_000/S2A_20180703T105621Z_31UET_FAPAR_V102/10M/S2A_20180703T105621Z_31UET_FAPAR_10M_V102.tif\n",
      "/data/MTDA/CGS_S2/CGS_S2_FAPAR/2018/07/05/S2B_20180705T105029Z_31UES_CGS_V102_000/S2B_20180705T105029Z_31UES_FAPAR_V102/10M/S2B_20180705T105029Z_31UES_FAPAR_10M_V102.tif\n"
     ]
    }
   ],
   "source": [
    "FAPARFiles = list(filter(lambda f: 'FAPAR' in f[5],productList))\n",
    "for f in FAPARFiles:\n",
    "    print(f[3]) #this is where the filename is"
   ]
  },
  {
   "cell_type": "markdown",
   "metadata": {},
   "source": [
    "Notice that the date and time indicated in the filename is **not the same as the date and time given by the product**. \n",
    "The latter is retrieved from the metadata provided by ESA, the former is defined by ESA. It is yet unknown why these times differ.\n",
    "\n",
    "Let's open one of the files.\n",
    "\n",
    "Once the data are read, we can convert them to physical values and plot the results. \n",
    "Also here, we do not yet read the conversion factors from the metadata, but use the hard coded value. \n",
    "Physical values > 1 are finally set to NaN (non-clear pixels)."
   ]
  },
  {
   "cell_type": "code",
   "execution_count": 12,
   "metadata": {},
   "outputs": [
    {
     "name": "stdout",
     "output_type": "stream",
     "text": [
      "/data/MTDA/CGS_S2/CGS_S2_FAPAR/2018/07/05/S2B_20180705T105029Z_31UFS_CGS_V102_000/S2B_20180705T105029Z_31UFS_FAPAR_V102/10M/S2B_20180705T105029Z_31UFS_FAPAR_10M_V102.tif\n"
     ]
    }
   ],
   "source": [
    "f_fapar = FAPARFiles[2][3] #we just select one \n",
    "print(f_fapar)\n",
    "\n",
    "with rasterio.open(f_fapar, 'r') as data:\n",
    "    d_fapar=data.read(1).astype('uint8') #the FAPAR values are stored as byte data\n",
    "  "
   ]
  },
  {
   "cell_type": "code",
   "execution_count": 13,
   "metadata": {},
   "outputs": [
    {
     "name": "stdout",
     "output_type": "stream",
     "text": [
      "0.0 0.975\n"
     ]
    },
    {
     "data": {
      "text/plain": [
       "Text(0.5, 1.0, 'FAPAR tile 31UFS 2018-07-05 10:54:27\\n non-clear pixels are white')"
      ]
     },
     "execution_count": 13,
     "metadata": {},
     "output_type": "execute_result"
    },
    {
     "data": {
      "image/png": "[encoded data removed]",
      "text/plain": [
       "<Figure size 432x288 with 2 Axes>"
      ]
     },
     "metadata": {},
     "output_type": "display_data"
    }
   ],
   "source": [
    "#set the seaborn plotting environment\n",
    "sns.set()\n",
    "\n",
    "#Take a subset, change these values if necessary\n",
    "sub = np.array([0, 10000])\n",
    "\n",
    "#Set NoData --> NaN, convert DN --> PV: for now use hard coded value\n",
    "fapar_sub = d_fapar[sub[0]:sub[1],sub[0]:sub[1]]\n",
    "\n",
    "fapar_sub[fapar_sub == 255] = -1\n",
    "fapar_sub = fapar_sub * 0.005\n",
    "fapar_sub[fapar_sub > 1.] = np.nan\n",
    "print(np.nanmin(fapar_sub), np.nanmax(fapar_sub))\n",
    "\n",
    "#show the FAPAR values\n",
    "mplot.imshow(fapar_sub, cmap='Greens', vmin=0., vmax=1.0)\n",
    "mplot.colorbar()\n",
    "\n",
    "#there are many colormaps that you can use. See here: https://matplotlib.org/examples/color/colormaps_reference.html\n",
    "mplot.title('FAPAR tile ' + FAPARFiles[2][4] + ' ' + FAPARFiles[2][2] + '\\n non-clear pixels are white')"
   ]
  },
  {
   "cell_type": "markdown",
   "metadata": {},
   "source": [
    "Now, let's do some processing. \n",
    "1. we will look for the raw 10 m Sentinel-2 bands \n",
    "2. then we load the RED (B03) and NIR (B08) bands to calculate the NDVI\n",
    "3. and we show the results"
   ]
  },
  {
   "cell_type": "code",
   "execution_count": 14,
   "metadata": {},
   "outputs": [],
   "source": [
    "#settings: product name, start and end date, and RoI\n",
    "productName = 'CGS_S2_RADIOMETRY_10M' \n",
    "startDate = dt.date(2018,5,6)\n",
    "endDate = dt.date(2018,5,7)\n",
    "minLatitude = 51 \n",
    "maxLatitude = 52\n",
    "minLongitude = 4 \n",
    "maxLongitude = 5\n",
    "\n",
    "#catalog client request\n",
    "listOfProducts = cat.get_products (productName, \n",
    "                            fileformat='GEOTIFF', \n",
    "                            startdate=startDate, \n",
    "                            enddate=endDate, \n",
    "                            min_lon=minLongitude, \n",
    "                            max_lon=maxLongitude, \n",
    "                            min_lat=minLatitude, \n",
    "                            max_lat=maxLatitude)\n",
    "\n"
   ]
  },
  {
   "cell_type": "code",
   "execution_count": 15,
   "metadata": {},
   "outputs": [
    {
     "name": "stdout",
     "output_type": "stream",
     "text": [
      "Tile  Date       Time     Res Product\n",
      "----- ---------- -------- --- -------\n",
      "31UFS 2018-05-06 10:54:23 10M RADIOMETRY TOC-B03\n",
      "31UFS 2018-05-06 10:54:23 10M RADIOMETRY TOC-B04\n",
      "31UFS 2018-05-06 10:54:23 10M RADIOMETRY TOC-B08\n",
      "31UFS 2018-05-06 10:54:23 10M RADIOMETRY SHADOWMASK\n",
      "31UFS 2018-05-06 10:54:23 10M RADIOMETRY TOC-B02\n",
      "31UFS 2018-05-06 10:54:23 10M RADIOMETRY CLOUDMASK\n",
      "31UET 2018-05-06 10:54:23 10M RADIOMETRY TOC-B04\n",
      "31UET 2018-05-06 10:54:23 10M RADIOMETRY TOC-B02\n",
      "31UET 2018-05-06 10:54:23 10M RADIOMETRY SHADOWMASK\n",
      "31UET 2018-05-06 10:54:23 10M RADIOMETRY TOC-B08\n",
      "31UET 2018-05-06 10:54:23 10M RADIOMETRY CLOUDMASK\n",
      "31UET 2018-05-06 10:54:23 10M RADIOMETRY TOC-B03\n",
      "31UES 2018-05-06 10:54:23 10M RADIOMETRY TOC-B04\n",
      "31UES 2018-05-06 10:54:23 10M RADIOMETRY CLOUDMASK\n",
      "31UES 2018-05-06 10:54:23 10M RADIOMETRY SHADOWMASK\n",
      "31UES 2018-05-06 10:54:23 10M RADIOMETRY TOC-B03\n",
      "31UES 2018-05-06 10:54:23 10M RADIOMETRY TOC-B02\n",
      "31UES 2018-05-06 10:54:23 10M RADIOMETRY TOC-B08\n",
      "31UFT 2018-05-06 10:54:23 10M RADIOMETRY SHADOWMASK\n",
      "31UFT 2018-05-06 10:54:23 10M RADIOMETRY TOC-B02\n",
      "31UFT 2018-05-06 10:54:23 10M RADIOMETRY CLOUDMASK\n",
      "31UFT 2018-05-06 10:54:23 10M RADIOMETRY TOC-B08\n",
      "31UFT 2018-05-06 10:54:23 10M RADIOMETRY TOC-B04\n",
      "31UFT 2018-05-06 10:54:23 10M RADIOMETRY TOC-B03\n"
     ]
    }
   ],
   "source": [
    "nbands = 0\n",
    "productList=[]\n",
    "\n",
    "#append to the product list\n",
    "for p in listOfProducts:\n",
    "\n",
    "    productelements=re.split(\"_\",str(p))  \n",
    "    nbands=nbands + len(p.bands())\n",
    "    \n",
    "    for b in p.bands():\n",
    "        productdetails=[]\n",
    "        productdetails.append(productelements[2])  # 0 product name \n",
    "        productdetails.append(productelements[3])  # 1 resolution\n",
    "        productdetails.append(productelements[-1]) # 2 datetime\n",
    "        productdetails.append(p.file(b)[5:]) # 3 filepath\n",
    "       \n",
    "        folders=re.split('/',p.file(b)[5:]) #this contains all subsequent folders + the actual filename\n",
    "        filepath='/'\n",
    "        for s in range(1,len(folders)-1):\n",
    "            filepath = filepath + folders[s] + '/'\n",
    "        productdetails.append(filepath) # 4 folder - we'll use this later, e.g. to retrieve the metadata file\n",
    "        items=re.split('_',folders[-1:][0])\n",
    "        productdetails.append(items[2]) # 5 UTM tile id\n",
    "        productdetails.append(items[3]) # 6 file content\n",
    "        productList.append(productdetails)\n",
    "\n",
    "print ('Tile  Date       Time     Res Product')\n",
    "print ('----- ---------- -------- --- -------')\n",
    "for p in productList:\n",
    "    print (p[5], p[2], p[1], p[0], p[6])"
   ]
  },
  {
   "cell_type": "markdown",
   "metadata": {},
   "source": [
    "All these files are stored in folders, and there is some more interesting data there as well.\n",
    "* an XML file that contains the metadata\n",
    "* a few quicklook files\n",
    "* cloud and cloud shadow masks at different resolutions\n",
    "* the scene classification file at 20 m resolution\n",
    "* the AOT data\n",
    "\n",
    "To illustrate this, let's see what is in the first folder"
   ]
  },
  {
   "cell_type": "code",
   "execution_count": 16,
   "metadata": {},
   "outputs": [
    {
     "name": "stdout",
     "output_type": "stream",
     "text": [
      "/data/MTDA/CGS_S2/CGS_S2_RADIOMETRY/2018/05/06/S2B_20180506T105029Z_31UFS_CGS_V102_000/S2B_20180506T105029Z_31UFS_TOC_V102/\n",
      "S2B_20180506T105029Z_31UFS_TOC-B07_20M_V102.tif\n",
      "S2B_20180506T105029Z_31UFS_CLOUDMASK_10M_V102.tif\n",
      "S2B_20180506T105029Z_31UFS_AOT_60M_V102.tif\n",
      "S2B_20180506T105029Z_31UFS_CLOUDMASK_20M_V102.tif\n",
      "S2B_20180506T105029Z_31UFS_TOC-B08_10M_V102.tif\n",
      "S2B_20180506T105029Z_31UFS_SCENECLASSIFICATION_20M_V102.tif\n",
      "S2B_20180506T105029Z_31UFS_TOC-B02_10M_V102.tif\n",
      "S2B_20180506T105029Z_31UFS_TOC-B06_20M_V102.tif\n",
      "S2B_20180506T105029Z_31UFS_SHADOWMASK_20M_V102.tif\n",
      "S2B_20180506T105029Z_31UFS_SHADOWMASK_10M_V102.tif\n",
      "S2B_20180506T105029Z_31UFS_TOC_V102_QL.tif\n",
      "S2B_20180506T105029Z_31UFS_TOC-B11_20M_V102.tif\n",
      "S2B_20180506T105029Z_31UFS_TOC-B8A_20M_V102.tif\n",
      "S2B_20180506T105029Z_31UFS_CLOUDMASK_60M_V102.tif\n",
      "S2B_20180506T105029Z_31UFS_TOC_V102_WM_QL.tif\n",
      "S2B_20180506T105029Z_31UFS_TOC-B01_60M_V102.tif\n",
      "S2B_20180506T105029Z_31UFS_TOC-B12_20M_V102.tif\n",
      "S2B_20180506T105029Z_31UFS_TOC-B05_20M_V102.tif\n",
      "S2B_20180506T105029Z_31UFS_TOC-B03_10M_V102.tif\n",
      "S2B_20180506T105029Z_31UFS_TOC_V102.xml\n",
      "S2B_20180506T105029Z_31UFS_TOC-B04_10M_V102.tif\n",
      "S2B_20180506T105029Z_31UFS_SHADOWMASK_60M_V102.tif\n",
      "22 files found\n"
     ]
    }
   ],
   "source": [
    "print(productList[0][4])\n",
    "flist = os.listdir(productList[0][4])\n",
    "\n",
    "for f in flist:\n",
    "    print (f)\n",
    "print (str(len(flist))+ \" files found\")"
   ]
  },
  {
   "cell_type": "markdown",
   "metadata": {},
   "source": [
    "The metadata is in the xml file. Let's see if we can get out relevant information"
   ]
  },
  {
   "cell_type": "code",
   "execution_count": 17,
   "metadata": {},
   "outputs": [
    {
     "name": "stdout",
     "output_type": "stream",
     "text": [
      "S2B_20180506T105029Z_31UFS_TOC_V102.xml\n",
      "Cloud cover is 0.650 %\n"
     ]
    }
   ],
   "source": [
    "xmlfile=list(filter(lambda f: \"xml\" in f,flist))\n",
    "print (xmlfile[0])\n",
    "tree = ET.parse(productList[0][4] + xmlfile[0])\n",
    "root = tree.getroot()\n",
    "for n in root.iter('{http://www.isotc211.org/2005/gmd}cloudCoverPercentage'):\n",
    "    for c in n.findall('{http://www.isotc211.org/2005/gco}Real'):\n",
    "        Cloudcover = c.text\n",
    "print ('Cloud cover is '+ Cloudcover+ ' %')"
   ]
  },
  {
   "cell_type": "markdown",
   "metadata": {},
   "source": [
    "Let's find the information in a less error-prone way: we are looking for the cloud cover percentage. In many cases, scenes with too much cloud cover are useless for practical data processing. Furthermore, we mask out the clouds in the FAPAR, FCOVER, LAI and NDVI products"
   ]
  },
  {
   "cell_type": "markdown",
   "metadata": {},
   "source": [
    "There is a lot more information in the XML file, as illustrated below "
   ]
  },
  {
   "cell_type": "code",
   "execution_count": 18,
   "metadata": {},
   "outputs": [
    {
     "data": {
      "text/plain": [
       "[['S2B_20180506T105029Z_31UFS_TOC-B01_60M_V000',\n",
       "  '-10000',\n",
       "  '10000',\n",
       "  '16',\n",
       "  '0.000100000000000',\n",
       "  '0.000000000000000'],\n",
       " ['S2B_20180506T105029Z_31UFS_TOC-B02_10M_V000',\n",
       "  '-10000',\n",
       "  '10000',\n",
       "  '16',\n",
       "  '0.000100000000000',\n",
       "  '0.000000000000000'],\n",
       " ['S2B_20180506T105029Z_31UFS_TOC-B03_10M_V000',\n",
       "  '-10000',\n",
       "  '10000',\n",
       "  '16',\n",
       "  '0.000100000000000',\n",
       "  '0.000000000000000'],\n",
       " ['S2B_20180506T105029Z_31UFS_TOC-B04_10M_V000',\n",
       "  '-10000',\n",
       "  '10000',\n",
       "  '16',\n",
       "  '0.000100000000000',\n",
       "  '0.000000000000000'],\n",
       " ['S2B_20180506T105029Z_31UFS_TOC-B05_20M_V000',\n",
       "  '-10000',\n",
       "  '10000',\n",
       "  '16',\n",
       "  '0.000100000000000',\n",
       "  '0.000000000000000'],\n",
       " ['S2B_20180506T105029Z_31UFS_TOC-B06_20M_V000',\n",
       "  '-10000',\n",
       "  '10000',\n",
       "  '16',\n",
       "  '0.000100000000000',\n",
       "  '0.000000000000000'],\n",
       " ['S2B_20180506T105029Z_31UFS_TOC-B07_20M_V000',\n",
       "  '-10000',\n",
       "  '10000',\n",
       "  '16',\n",
       "  '0.000100000000000',\n",
       "  '0.000000000000000'],\n",
       " ['S2B_20180506T105029Z_31UFS_TOC-B08_10M_V000',\n",
       "  '-10000',\n",
       "  '10000',\n",
       "  '16',\n",
       "  '0.000100000000000',\n",
       "  '0.000000000000000'],\n",
       " ['S2B_20180506T105029Z_31UFS_TOC-B8A_20M_V000',\n",
       "  '-10000',\n",
       "  '10000',\n",
       "  '16',\n",
       "  '0.000100000000000',\n",
       "  '0.000000000000000'],\n",
       " ['S2B_20180506T105029Z_31UFS_TOC-B11_20M_V000',\n",
       "  '-10000',\n",
       "  '10000',\n",
       "  '16',\n",
       "  '0.000100000000000',\n",
       "  '0.000000000000000'],\n",
       " ['S2B_20180506T105029Z_31UFS_TOC-B12_20M_V000',\n",
       "  '-10000',\n",
       "  '10000',\n",
       "  '16',\n",
       "  '0.000100000000000',\n",
       "  '0.000000000000000'],\n",
       " ['AOT', '0', '250', '16', '0.000100000000000', '0.000000000000000']]"
      ]
     },
     "execution_count": 18,
     "metadata": {},
     "output_type": "execute_result"
    }
   ],
   "source": [
    "Bands=[]\n",
    "for n in root.iter('{http://www.isotc211.org/2005/gmd}MD_Band'):\n",
    "    Bandinfo=[]\n",
    "    for c in n.iter('{http://www.isotc211.org/2005/gco}MemberName'):\n",
    "        l=[]\n",
    "        for t in c.iter('{http://www.isotc211.org/2005/gco}CharacterString'):\n",
    "            l.append(t.text) # O: identification string\n",
    "        Bandinfo.append(l[0])\n",
    "    for c in n.iter('{http://www.isotc211.org/2005/gmd}minValue'):\n",
    "        for t in c.findall('{http://www.isotc211.org/2005/gco}Real'):\n",
    "            Bandinfo.append(t.text) #1: min grey value\n",
    "    for c in n.iter('{http://www.isotc211.org/2005/gmd}maxValue'):\n",
    "        for t in c.findall('{http://www.isotc211.org/2005/gco}Real'):\n",
    "            Bandinfo.append(t.text) #2: max grey value\n",
    "    for c in n.iter('{http://www.isotc211.org/2005/gmd}bitsPerValue'):\n",
    "        for t in c.findall('{http://www.isotc211.org/2005/gco}Integer'):\n",
    "            Bandinfo.append(t.text) #3: bits per grey value (8 - 256 values, 16 - 65536 values) \n",
    "    for c in n.iter('{http://www.isotc211.org/2005/gmd}scaleFactor'):\n",
    "        for t in c.findall('{http://www.isotc211.org/2005/gco}Real'):\n",
    "            Bandinfo.append(t.text) #4: scale factor: how to relate the grey value to the actual value\n",
    "    for c in n.iter('{http://www.isotc211.org/2005/gmd}offset'):\n",
    "        for t in c.findall('{http://www.isotc211.org/2005/gco}Real'):\n",
    "            Bandinfo.append(t.text) #5: offset value to add to the actual value   \n",
    "    Bands.append(Bandinfo)\n",
    "Bands    "
   ]
  },
  {
   "cell_type": "markdown",
   "metadata": {},
   "source": [
    "It would be a good idea now to couple the lists in <b>Bands</b> and <b>productList</b>, so that all information is collected together. I will let you figure this out by yourself\n",
    "\n",
    "\n",
    "Let's do some processing on the data. We'll derive the NDVI index from the Red and IR bands."
   ]
  },
  {
   "cell_type": "code",
   "execution_count": 19,
   "metadata": {},
   "outputs": [],
   "source": [
    "for p in productList:\n",
    "    if p[5]=='31UES': #let's just look at this tile\n",
    "        if p[6] == 'TOC-B04': #red\n",
    "            f_red = p[3]   \n",
    "        if p[6] == 'TOC-B08': #near-infrared\n",
    "            f_nir = p[3]\n",
    "            \n",
    "#read the files with rasterio \n",
    "with rasterio.open(f_red, 'r') as data:\n",
    "    d_red = data.read(1).astype(float)\n",
    "      \n",
    "with rasterio.open(f_nir, 'r') as data:\n",
    "    d_nir = data.read(1).astype(float)"
   ]
  },
  {
   "cell_type": "markdown",
   "metadata": {},
   "source": [
    "During the atmospheric correction, some pixel values may become nonsensical (e.g. negative values). We'll take care of that. Furthermore, we'll convert the greyvalues into physical values, by applying the scale factor (which we found in the xml file) (and we should also apply the offset, but it's zero. So we'll skip that one)"
   ]
  },
  {
   "cell_type": "code",
   "execution_count": 20,
   "metadata": {},
   "outputs": [],
   "source": [
    "noval = np.where((d_red == 32767) | (d_red < 0) | (d_nir == 32767) | (d_nir < 0))    \n",
    "d_red[noval] = np.nan\n",
    "d_nir[noval] = np.nan\n",
    "\n",
    "#apply the scaling factor\n",
    "d_red = d_red * 0.0001 \n",
    "d_nir = d_nir * 0.0001\n",
    "\n",
    "#compute the NDVI from RED and NIR\n",
    "d_ndvi = (d_red - d_nir) / (d_red + d_nir)"
   ]
  },
  {
   "cell_type": "markdown",
   "metadata": {},
   "source": [
    "Now, we'll show the original data and the NDVI derived from it. NDVI has values in the [-1,1] interval"
   ]
  },
  {
   "cell_type": "code",
   "execution_count": null,
   "metadata": {
    "scrolled": true
   },
   "outputs": [],
   "source": [
    "#take a subset, in this case the upper left quadrant\n",
    "sub = np.array([500, 5500])\n",
    "\n",
    "#make map plots for the RED and NIR and resulting NDVI, use subplots\n",
    "mplot.figure(figsize=(10,10))\n",
    "mplot.subplot(221)\n",
    "\n",
    "#TOC reflectances\n",
    "mplot.imshow(d_red[sub[0]:sub[1],sub[0]:sub[1]], cmap='Reds', vmin=0., vmax=0.5)\n",
    "mplot.title('TOC reflectance 0.665 $\\mu$m')\n",
    "\n",
    "cb = mplot.colorbar(aspect=20)  \n",
    "cb.ax.set_ylabel('RED TOC reflectance')\n",
    "cb.ax.tick_params(labelsize=10)\n",
    "\n",
    "mplot.subplot(222)\n",
    "mplot.imshow(d_nir[sub[0]:sub[1],sub[0]:sub[1]], cmap='Greens', vmin=0., vmax=0.7)\n",
    "mplot.title('TOC reflectance 0.842 $\\mu$m')\n",
    "cb = mplot.colorbar(aspect=20)  \n",
    "cb.ax.set_ylabel('NIR TOC reflectance')\n",
    "cb.ax.tick_params(labelsize=10)\n",
    "\n",
    "#TOC NDVI\n",
    "mplot.subplot(223)\n",
    "mplot.imshow(d_nir[sub[0]:sub[1],sub[0]:sub[1]], cmap='Set2', vmin=0., vmax=1.0)\n",
    "mplot.title('TOC NDVI')\n",
    "\n",
    "#same as for the TOC reflectance colorbar, but now for TOC NDVI\n",
    "cb = mplot.colorbar(aspect=20)  \n",
    "cb.ax.set_ylabel('TOC NDVI')\n",
    "cb.ax.tick_params(labelsize=10)"
   ]
  },
  {
   "cell_type": "markdown",
   "metadata": {},
   "source": [
    "So, we're at the end of this introduction. You now know where to find the data, and have seen so"
   ]
  },
  {
   "cell_type": "code",
   "execution_count": null,
   "metadata": {},
   "outputs": [],
   "source": []
  },
  {
   "cell_type": "code",
   "execution_count": null,
   "metadata": {},
   "outputs": [],
   "source": []
  },
  {
   "cell_type": "code",
   "execution_count": null,
   "metadata": {},
   "outputs": [],
   "source": []
  }
 ],
 "metadata": {
  "kernelspec": {
   "display_name": "python36",
   "language": "python",
   "name": "python36"
  },
  "language_info": {
   "codemirror_mode": {
    "name": "ipython",
    "version": 3
   },
   "file_extension": ".py",
   "mimetype": "text/x-python",
   "name": "python",
   "nbconvert_exporter": "python",
   "pygments_lexer": "ipython3",
   "version": "3.6.8"
  }
 },
 "nbformat": 4,
 "nbformat_minor": 4
}
