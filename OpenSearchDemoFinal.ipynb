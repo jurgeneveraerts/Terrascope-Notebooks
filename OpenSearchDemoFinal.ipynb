{
 "cells": [
  {
   "cell_type": "markdown",
   "metadata": {
    "deletable": true,
    "editable": true
   },
   "source": [
    "### Using TerraCatalogue\n",
    "\n",
    "This is a notebook to illustrate the capabilities of the Terrascope catalogue. This catalogue contains the current Sentinel-1 and Sentinel-2 products.<br>\n",
    "If you are looking for PROBA-V products, or the older version of Sentinel-2 products, then you need to use a different catalog client. <br>\n",
    "More information can be found [here](https://docs.terrascope.be/#/Developers/WebServices/TerraCatalogue/TerraCatalogue). <br>\n",
    "In all functions, there is a parameter <b>printURL</b> that, when set to <b>True</b>, will print out the URL that is used to query the TerraCatalogue. You can copy and paste this URL in a browser to see what is actually returned. If needed, then you can adapt some of the functions to suit your needs better.<br>\n",
    "If you prefer to have a UI, then please use [viewer.terrascope.be](https://viewer.terrascope.be/), and go to the <b>Download</b> tab"
   ]
  },
  {
   "cell_type": "code",
   "execution_count": 36,
   "metadata": {
    "deletable": true,
    "editable": true
   },
   "outputs": [],
   "source": [
    "import requests\n",
    "import datetime\n",
    "import json\n",
    "import re\n",
    "import os\n",
    "import dateutil.parser as dp\n",
    "\n",
    "#URL of the catalogue\n",
    "esOpsURL='https://services.terrascope.be/catalogue/' #ops environment\n"
   ]
  },
  {
   "cell_type": "code",
   "execution_count": 2,
   "metadata": {},
   "outputs": [],
   "source": [
    "def GetCollectionInfo(keyword, ElasticSearchURL=esOpsURL, printURL=False):\n",
    "    'get information from collections; keywords: title, uid, productType, abstract, platform'\n",
    "    if printURL:\n",
    "        print(ElasticSearchURL+'description')\n",
    "    Catalogdescription=requests.get(ElasticSearchURL+'description')\n",
    "    CatalogJson=Catalogdescription.json()\n",
    "    for j in CatalogJson['Url'][1]['Parameter']:\n",
    "        if j['name']==keyword:\n",
    "            oplist=j['Option']\n",
    "            productlist=[]\n",
    "            for p in oplist:\n",
    "                productlist.append(p['label'])\n",
    "            productlist=sorted(productlist)\n",
    "    return(productlist)"
   ]
  },
  {
   "cell_type": "code",
   "execution_count": 3,
   "metadata": {},
   "outputs": [],
   "source": [
    "def getCollectionParameters(ElasticSearchURL=esOpsURL, printURL=False):\n",
    "    'get parameters from the collections'\n",
    "    if printURL:\n",
    "        print(ElasticSearchURL+'collections')\n",
    "    CatalogCollections=requests.get(ElasticSearchURL+'collections')\n",
    "    CollJson=CatalogCollections.json()\n",
    "    collections=[]\n",
    "    featJson=CollJson['features']\n",
    "    for f in featJson:\n",
    "        colldetails={}\n",
    "        keylist = list(f.keys())\n",
    "                    #print(keylist)\n",
    "        for k in keylist:\n",
    "            if k != 'properties':\n",
    "                colldetails[k]=f[k]\n",
    "            else:\n",
    "                prop = f['properties']\n",
    "                pkeys = list(prop.keys())\n",
    "                propdict={}\n",
    "                for p in pkeys:\n",
    "                    propdict[p]=prop[p]\n",
    "                colldetails['properties']=propdict\n",
    "        collections.append(colldetails)\n",
    "    return(collections)"
   ]
  },
  {
   "cell_type": "code",
   "execution_count": 4,
   "metadata": {},
   "outputs": [],
   "source": [
    "def getTotalNumberOfProducts(urn, ElasticSearchURL=esOpsURL, printURL=False):\n",
    "    'return the number of products for a collection'\n",
    "    if printURL:\n",
    "        print(ElasticSearchURL+'products?collection='+urn+'&startIndex=1')\n",
    "    products=requests.get(ElasticSearchURL+'products?collection='+urn+'&startIndex=1')\n",
    "    productsJson=products.json()\n",
    "    numProducts = int(productsJson['totalResults'])\n",
    "    return numProducts"
   ]
  },
  {
   "cell_type": "code",
   "execution_count": 5,
   "metadata": {},
   "outputs": [],
   "source": [
    "def findNumberOfProducts(urn, ElasticSearchURL=esOpsURL, start=datetime.datetime(2015,1,1,0,0,0).isoformat(), end=datetime.datetime.now().isoformat(), \n",
    "                              latmin = -90.0, latmax = 90.0, lonmin = -180.0, lonmax = 180.0, ccmin = 0.0, ccmax = 100.0,\n",
    "                              prstart = datetime.datetime(2015,1,1,0,0,0).isoformat(), prend = datetime.datetime.now().isoformat(), tID = '', printURL=False ):\n",
    "    'specific query to find the number of products that comply with the search criteria'\n",
    "    \n",
    "    bbox=str(lonmin)+','+str(latmin)+','+str(lonmax)+','+str(latmax)\n",
    "    requestbasestring = ElasticSearchURL + 'products?collection='+ urn + \"&start=\" + str(start) + \"&end=\" + str(end) + '&bbox=' + bbox\n",
    "    requestbasestring = requestbasestring +  '&processingDate=[' + str(prstart) + ',' + str(prend) + \"[\"\n",
    "    if 'S2' in urn: #cloud cover is not relevant for S1 products\n",
    "        requestbasestring = requestbasestring + '&cloudCover=['+str(ccmin)+','+str(ccmax)+']'\n",
    "        if tID != '': #there are tile IDs only for S2 products\n",
    "            requestbasestring = requestbasestring + '&sortKeys=title,,0,0&tileId=' + tID\n",
    "        else:\n",
    "            requestbasestring = requestbasestring + '&sortKeys=title,,0,0'\n",
    "    if printURL:\n",
    "        print(requestbasestring+'&startIndex=1')  # printing this is useful if you want to paste it in a browser\n",
    "    products=requests.get(requestbasestring+'&startIndex=1')\n",
    "    productsJson=products.json()\n",
    "    numProducts = productsJson['totalResults']\n",
    "\n",
    "    return(numProducts)\n",
    "    "
   ]
  },
  {
   "cell_type": "code",
   "execution_count": 30,
   "metadata": {},
   "outputs": [],
   "source": [
    "def findProducts(urn, ElasticSearchURL=esOpsURL, start=datetime.datetime(2015,1,1,0,0,0).isoformat(), end=datetime.datetime(2023,12,31,23,59,59).isoformat(), \n",
    "                 latmin = -90.0, latmax = 90.0, lonmin = -180.0, lonmax = 180.0, ccmin = 0.0, ccmax = 100.0,\n",
    "                 prstart = datetime.datetime(2015,1,1,0,0,0).isoformat(), prend = datetime.datetime(2021,12,31,23,59,59).isoformat(), \n",
    "                 tID = '', onTerrascope=True, printURL=False ):\n",
    "\n",
    "    productsList=[]\n",
    "    bbox=str(lonmin)+','+str(latmin)+','+str(lonmax)+','+str(latmax)\n",
    "    requestbasestring = ElasticSearchURL + 'products?collection='+ urn + \"&start=\" + str(start) + \"&end=\" + str(end) + '&bbox=' + bbox\n",
    "    requestbasestring = requestbasestring +  '&modificationDate=[' + str(prstart) + ',' + str(prend) + \"[\"\n",
    "    if 'S2' in urn: #cloud cover is not relevant for S1 products\n",
    "        requestbasestring = requestbasestring + '&cloudCover=['+str(ccmin)+','+str(ccmax)+']'\n",
    "        if tID != '': #there are tile IDs only for S2 products\n",
    "            requestbasestring = requestbasestring + '&sortKeys=title,,0,0&tileId=' + tID\n",
    "        else:\n",
    "            requestbasestring = requestbasestring + '&sortKeys=title,,0,0'\n",
    "    if onTerrascope:\n",
    "        requestbasestring = requestbasestring + '&accessedFrom=MEP'\n",
    "    if printURL:\n",
    "        print(requestbasestring+'&startIndex=1')  # printing this is useful if you want to paste it in a browser\n",
    "    products=requests.get(requestbasestring+'&startIndex=1')\n",
    "    productsJson=products.json()\n",
    "    numProducts = productsJson['totalResults']\n",
    "    print('Number of products between '+ str(start)+' and '+ str(end) +' produced between ' + str(prstart) +' and ' + str(prend) + ' is',numProducts)\n",
    "    itemsPerPage = int(productsJson['itemsPerPage'])\n",
    "    if numProducts > 10000:\n",
    "        print('too many results (max 10000 allowed), please narrow down your search')\n",
    "        return(['too many results'])\n",
    "    else:    \n",
    "        if numProducts > 0:\n",
    "            for ind in range(int(numProducts/itemsPerPage)+1):\n",
    "                startindex = ind*itemsPerPage+1\n",
    "                products=requests.get(requestbasestring+'&startIndex='+ str(startindex))\n",
    "                productsJson=products.json()\n",
    "                features = productsJson['features']\n",
    "                for f in features:\n",
    "                    productdetail = {}\n",
    "                    productdetail['productID'] = f['id']\n",
    "                    productdetail['bbox'] = f['bbox'] \n",
    "                    properties = f['properties']\n",
    "                    productdetail['productDate'] = properties['date']\n",
    "                    productdetail['productPublishedDate']=properties['published']\n",
    "                    productdetail['productTitle'] = properties['title']\n",
    "                    productdetail['relativeOrbit'] = properties['acquisitionInformation'][1]['acquisitionParameters']['relativeOrbitNumber']\n",
    "                    productdetail['productType'] = properties['productInformation']['productType']\n",
    "                    if 'S2' in f['id']:\n",
    "                        productdetail['cloudcover'] = properties['productInformation']['cloudCover']\n",
    "                        productdetail['tileID'] = properties['acquisitionInformation'][1]['acquisitionParameters']['tileId']\n",
    "                    else:\n",
    "                        productdetail['cloudcover'] = ''\n",
    "                        productdetail['tileID'] = ''\n",
    "                    filelist =[]\n",
    "                    linkkeys = properties['links'].keys()\n",
    "                    for l in linkkeys:\n",
    "                        for fil in properties['links'][l]:\n",
    "                            filedetails={}\n",
    "                            filedetails['filetype'] = l\n",
    "                            if onTerrascope:\n",
    "                                filedetails['filepath'] = fil['href'][7:]\n",
    "                            else:\n",
    "                                filedetails['filepath']=fil['href']\n",
    "                            if l == 'previews':\n",
    "                                filedetails['category'] = fil['category']\n",
    "                                filedetails['title'] = fil['category']\n",
    "                            if l == 'alternates' or l == 'data':\n",
    "                                filedetails['category'] = fil['title']\n",
    "                                filedetails['title'] = fil['title']\n",
    "                            if l == 'related':\n",
    "                                filedetails['category'] = fil['category']\n",
    "                                filedetails['title'] = fil['title']\n",
    "                            filedetails['length']=fil['length']    \n",
    "                            filelist.append(filedetails)\n",
    "                    productdetail['files']=filelist        \n",
    "                    productsList.append(productdetail)\n",
    "            return(productsList)\n",
    "        else:\n",
    "            return(['no products'])\n"
   ]
  },
  {
   "cell_type": "code",
   "execution_count": 39,
   "metadata": {},
   "outputs": [
    {
     "name": "stdout",
     "output_type": "stream",
     "text": [
      "productType : 11\n",
      "  CCC\n",
      "  CWC\n",
      "  FAPAR\n",
      "  FCOVER\n",
      "  GRD\n",
      "  GRD_SIGMA0\n",
      "  LAI\n",
      "  NDVI\n",
      "  SLC\n",
      "  SLC_COHERENCE\n",
      "  TOC\n",
      "\n",
      "title : 11\n",
      "  SENTINEL-1 Level-1 Ground Range Detected (GRD) SIGMA0 products\n",
      "  SENTINEL-1 Level-1 Ground Range Detected (GRD) products\n",
      "  SENTINEL-1 Level-1 Single Look Complex (SLC) Coherence products.\n",
      "  SENTINEL-1 Level-1 Single Look Complex (SLC) products.\n",
      "  SENTINEL-2 Chlorophyll Canopy Content Index (CCC) (tiles) - V2\n",
      "  SENTINEL-2 Chlorophyll Water Content Index (CWC) (tiles) - V2\n",
      "  SENTINEL-2 Fraction Absorbed Photosynthetically Radiation (FAPAR) (tiles) - V2\n",
      "  SENTINEL-2 Fraction of Vegetation Cover (FCOVER) (tiles) - V2\n",
      "  SENTINEL-2 Leaf Area index (LAI) (tiles) - V2\n",
      "  SENTINEL-2 Normalized Difference Vegetation Index (NDVI) (tiles) - V2\n",
      "  SENTINEL-2 Top of Canopy (TOC) Products (tiles) - V2\n",
      "\n"
     ]
    }
   ],
   "source": [
    "#example use\n",
    "keys = ['productType','title','uid','abstract', 'platform']\n",
    "for k in keys[0:2]:\n",
    "    collectionlist=GetCollectionInfo(keyword=k, printURL=False)\n",
    "    print(k,':', len(collectionlist))\n",
    "    for c in collectionlist:\n",
    "        print(\" \",c)\n",
    "    print()"
   ]
  },
  {
   "cell_type": "code",
   "execution_count": 8,
   "metadata": {},
   "outputs": [
    {
     "name": "stdout",
     "output_type": "stream",
     "text": [
      "https://services.terrascope.be/catalogue/collections\n",
      "urn:eop:VITO:TERRASCOPE_S1_SLC_COHERENCE_V1\n",
      "urn:eop:VITO:TERRASCOPE_S2_TOC_V2\n",
      "urn:eop:VITO:TERRASCOPE_S2_CCC_V2\n",
      "urn:eop:VITO:TERRASCOPE_S2_CWC_V2\n",
      "urn:eop:VITO:TERRASCOPE_S2_LAI_V2\n",
      "urn:eop:VITO:TERRASCOPE_S2_NDVI_V2\n",
      "urn:eop:VITO:TERRASCOPE_S2_FAPAR_V2\n",
      "urn:eop:VITO:TERRASCOPE_S2_FCOVER_V2\n",
      "urn:eop:VITO:CGS_S1_GRD_L1\n",
      "urn:eop:VITO:CGS_S1_GRD_SIGMA0_L1\n",
      "urn:eop:VITO:CGS_S1_SLC_L1\n"
     ]
    }
   ],
   "source": [
    "collectionInformation=getCollectionParameters(printURL=True)\n",
    "for c in collectionInformation:\n",
    "    print(c['id'])"
   ]
  },
  {
   "cell_type": "code",
   "execution_count": 43,
   "metadata": {},
   "outputs": [
    {
     "name": "stdout",
     "output_type": "stream",
     "text": [
      "urn:eop:VITO:TERRASCOPE_S1_SLC_COHERENCE_V1      6911\n",
      "urn:eop:VITO:TERRASCOPE_S2_TOC_V2              122657\n",
      "urn:eop:VITO:TERRASCOPE_S2_CCC_V2              123416\n",
      "urn:eop:VITO:TERRASCOPE_S2_CWC_V2              123416\n",
      "urn:eop:VITO:TERRASCOPE_S2_LAI_V2              246832\n",
      "urn:eop:VITO:TERRASCOPE_S2_NDVI_V2             123416\n",
      "urn:eop:VITO:TERRASCOPE_S2_FAPAR_V2            246828\n",
      "urn:eop:VITO:TERRASCOPE_S2_FCOVER_V2           246830\n",
      "urn:eop:VITO:CGS_S1_GRD_L1                      11802\n",
      "urn:eop:VITO:CGS_S1_GRD_SIGMA0_L1               10910\n",
      "urn:eop:VITO:CGS_S1_SLC_L1                       5178\n"
     ]
    }
   ],
   "source": [
    "for c in collectionInformation:\n",
    "    np = getTotalNumberOfProducts(urn = c['id'], printURL=False)\n",
    "    print(c['id'].ljust(45), '{0:7d}'.format(np))"
   ]
  },
  {
   "cell_type": "markdown",
   "metadata": {},
   "source": [
    "Some of the layers are related to Sentinel-1. We'll create a list of just the Sentinel-2 layers"
   ]
  },
  {
   "cell_type": "code",
   "execution_count": 10,
   "metadata": {},
   "outputs": [
    {
     "data": {
      "text/plain": [
       "['urn:eop:VITO:TERRASCOPE_S2_TOC_V2',\n",
       " 'urn:eop:VITO:TERRASCOPE_S2_CCC_V2',\n",
       " 'urn:eop:VITO:TERRASCOPE_S2_CWC_V2',\n",
       " 'urn:eop:VITO:TERRASCOPE_S2_LAI_V2',\n",
       " 'urn:eop:VITO:TERRASCOPE_S2_NDVI_V2',\n",
       " 'urn:eop:VITO:TERRASCOPE_S2_FAPAR_V2',\n",
       " 'urn:eop:VITO:TERRASCOPE_S2_FCOVER_V2']"
      ]
     },
     "execution_count": 10,
     "metadata": {},
     "output_type": "execute_result"
    }
   ],
   "source": [
    "S2collectionList = []\n",
    "for f in collectionInformation:\n",
    "    if 'S2' in f['id']:\n",
    "        S2collectionList.append(f['id'])\n",
    "S2collectionList"
   ]
  },
  {
   "cell_type": "markdown",
   "metadata": {},
   "source": [
    "## Some examples of retrieving the number of products.\n",
    "### findNumberOfProducts\n",
    "\n",
    "The function <b>findNumberOfProducts</b> has a lot of parameters. Most have a default value, so they don't need to be included in the parameter list. It's hard to remember the exact order of the parameters, so it is best to call the function with the parameter name included. In the examples that follow, this becomes clear. Obviously, some queries lead to no results at all. For instance, if you specify a bounding box <b>and</b> a tile ID which does not intersect that bounding box, you won't get anything. \n",
    "\n",
    "| Parameter name | Default value | Comment |\n",
    "| --- | --- | --- |\n",
    "| urn | no default value | urn of the collection |\n",
    "| ElasticSearchURL | 'https://services.terrascope.be/catalogue/' | is also set to <b>esOpsURL</b> |\n",
    "| start | 2015-01-01 | start acquisition datetime in iso format |\n",
    "| end | now | end acquisition datetime in iso format |\n",
    "| prstart | 2015-01-01 | start datetime of product publication in iso format |\n",
    "| prend | now | end datetime of product publication in iso format |\n",
    "| latmin | -90.0 | minimum latitude of bounding box in degrees |\n",
    "| latmax | +90.0 | maximum latitude of bounding box in degrees |\n",
    "| lonmin | -180.0 | minimum longitude of bounding box in degrees |\n",
    "| lonmax | +180.0 | maximum longitude of bounding box in degrees |\n",
    "| ccmin | 0.0 | Sentinel-2 minimum cloud cover in percent (not used for Sentinel-1 queries) |\n",
    "| ccmax | 100.0 | Sentinel-2 maximum cloud cover in percent (not used for Sentinel-1 queries) |\n",
    "| tID | blank | Sentinel-2 tile ID (not used for Sentinel-1 queries) |\n",
    "| printURL | False | will print out the query URL |\n",
    "\n",
    "\n",
    "#### 1. using just the urn. \n",
    "This will return the total number of products in the archive\n"
   ]
  },
  {
   "cell_type": "code",
   "execution_count": 11,
   "metadata": {},
   "outputs": [
    {
     "name": "stdout",
     "output_type": "stream",
     "text": [
      "https://services.terrascope.be/catalogue/products?collection=urn:eop:VITO:TERRASCOPE_S2_LAI_V2&start=2015-01-01T00:00:00&end=2020-08-19T09:30:12.617766&bbox=-180.0,-90.0,180.0,90.0&processingDate=[2015-01-01T00:00:00,2020-08-19T09:30:12.617776[&cloudCover=[0.0,100.0]&sortKeys=title,,0,0&startIndex=1\n",
      "urn:eop:VITO:TERRASCOPE_S2_LAI_V2 246832\n"
     ]
    }
   ],
   "source": [
    "print('urn:eop:VITO:TERRASCOPE_S2_LAI_V2', findNumberOfProducts('urn:eop:VITO:TERRASCOPE_S2_LAI_V2', printURL=True))"
   ]
  },
  {
   "cell_type": "markdown",
   "metadata": {},
   "source": [
    "#### 2. using start and end time"
   ]
  },
  {
   "cell_type": "code",
   "execution_count": 12,
   "metadata": {},
   "outputs": [
    {
     "name": "stdout",
     "output_type": "stream",
     "text": [
      "https://services.terrascope.be/catalogue/products?collection=urn:eop:VITO:TERRASCOPE_S2_CCC_V2&start=2019-06-01&end=2019-06-13&bbox=-180.0,-90.0,180.0,90.0&processingDate=[2015-01-01T00:00:00,2020-08-19T09:30:12.617776[&cloudCover=[0.0,100.0]&sortKeys=title,,0,0&startIndex=1\n",
      "urn:eop:VITO:TERRASCOPE_S1_SLC_COHERENCE_V1 724\n"
     ]
    }
   ],
   "source": [
    "print('urn:eop:VITO:TERRASCOPE_S1_SLC_COHERENCE_V1', findNumberOfProducts('urn:eop:VITO:TERRASCOPE_S2_CCC_V2',\n",
    "                                                                 start=datetime.date(2019,6,1).isoformat(), \n",
    "                                                                 end=datetime.date(2019,6,13).isoformat(), \n",
    "                                                                 printURL=True))"
   ]
  },
  {
   "cell_type": "markdown",
   "metadata": {},
   "source": [
    "#### 3. using cloud cover"
   ]
  },
  {
   "cell_type": "code",
   "execution_count": 13,
   "metadata": {},
   "outputs": [
    {
     "name": "stdout",
     "output_type": "stream",
     "text": [
      "https://services.terrascope.be/catalogue/products?collection=urn:eop:VITO:TERRASCOPE_S2_FAPAR_V2&start=2018-10-06&end=2018-10-10&bbox=-180.0,-90.0,180.0,90.0&processingDate=[2015-01-01T00:00:00,2020-08-19T09:30:12.617776[&cloudCover=[0.0,15.0]&sortKeys=title,,0,0&startIndex=1\n",
      "urn:eop:VITO:TERRASCOPE_S2_FAPAR_V2 58\n"
     ]
    }
   ],
   "source": [
    "print('urn:eop:VITO:TERRASCOPE_S2_FAPAR_V2', findNumberOfProducts('urn:eop:VITO:TERRASCOPE_S2_FAPAR_V2',\n",
    "                                                                 start=datetime.date(2018,10,6).isoformat(), \n",
    "                                                                 end=datetime.date(2018,10,10).isoformat(), \n",
    "                                                                 ccmin = 0.0,\n",
    "                                                                 ccmax = 15.0,\n",
    "                                                                 printURL=True))\n"
   ]
  },
  {
   "cell_type": "markdown",
   "metadata": {},
   "source": [
    "#### 4. using a bounding box"
   ]
  },
  {
   "cell_type": "code",
   "execution_count": 14,
   "metadata": {},
   "outputs": [
    {
     "name": "stdout",
     "output_type": "stream",
     "text": [
      "https://services.terrascope.be/catalogue/products?collection=urn:eop:VITO:TERRASCOPE_S2_CCC_V2&start=2015-01-01T00:00:00&end=2020-08-19T09:30:12.617766&bbox=4.0,50.0,5.0,51.0&processingDate=[2015-01-01T00:00:00,2020-08-19T09:30:12.617776[&cloudCover=[0.0,100.0]&sortKeys=title,,0,0&startIndex=1\n",
      "urn:eop:VITO:TERRASCOPE_S2_CCC_V2 2800\n"
     ]
    }
   ],
   "source": [
    "print('urn:eop:VITO:TERRASCOPE_S2_CCC_V2', findNumberOfProducts('urn:eop:VITO:TERRASCOPE_S2_CCC_V2',\n",
    "                                                                 latmin = 50.0,\n",
    "                                                                 latmax = 51.0,\n",
    "                                                                 lonmin = 4.0,\n",
    "                                                                 lonmax = 5.0,\n",
    "                                                                 printURL=True))\n"
   ]
  },
  {
   "cell_type": "markdown",
   "metadata": {},
   "source": [
    "#### 5. using production date\n"
   ]
  },
  {
   "cell_type": "code",
   "execution_count": 15,
   "metadata": {},
   "outputs": [
    {
     "name": "stdout",
     "output_type": "stream",
     "text": [
      "https://services.terrascope.be/catalogue/products?collection=urn:eop:VITO:TERRASCOPE_S2_TOC_V2&start=2015-01-01T00:00:00&end=2020-08-19T09:30:12.617766&bbox=-180.0,-90.0,180.0,90.0&processingDate=[2020-04-07T15:00:00,2020-04-07T16:00:00[&cloudCover=[0.0,100.0]&sortKeys=title,,0,0&startIndex=1\n",
      "urn:eop:VITO:TERRASCOPE_S2_TOC_V2 8\n"
     ]
    }
   ],
   "source": [
    "print('urn:eop:VITO:TERRASCOPE_S2_TOC_V2', findNumberOfProducts('urn:eop:VITO:TERRASCOPE_S2_TOC_V2',\n",
    "                                                          prstart=datetime.datetime(2020,4,7,15,0,0).isoformat(), \n",
    "                                                          prend=datetime.datetime(2020,4,7,16,0,0).isoformat(), \n",
    "                                                          printURL=True))\n"
   ]
  },
  {
   "cell_type": "markdown",
   "metadata": {},
   "source": [
    "#### 6. using a tile ID"
   ]
  },
  {
   "cell_type": "code",
   "execution_count": 16,
   "metadata": {},
   "outputs": [
    {
     "name": "stdout",
     "output_type": "stream",
     "text": [
      "https://services.terrascope.be/catalogue/products?collection=urn:eop:VITO:TERRASCOPE_S2_TOC_V2&start=2015-01-01T00:00:00&end=2020-08-19T09:30:12.617766&bbox=-180.0,-90.0,180.0,90.0&processingDate=[2015-01-01T00:00:00,2020-08-19T09:30:12.617776[&cloudCover=[0.0,100.0]&sortKeys=title,,0,0&tileId=31UES&startIndex=1\n",
      "urn:eop:VITO:TERRASCOPE_S2_TOC_V2 839\n"
     ]
    }
   ],
   "source": [
    "print('urn:eop:VITO:TERRASCOPE_S2_TOC_V2', findNumberOfProducts('urn:eop:VITO:TERRASCOPE_S2_TOC_V2',\n",
    "                                                                 tID='31UES', \n",
    "                                                                 printURL=True))"
   ]
  },
  {
   "cell_type": "markdown",
   "metadata": {},
   "source": [
    "Of course you can combine the parameters.<br> \n",
    "\n",
    "### findProducts\n",
    "Now, let's see what you get if you want to retrieve the products themselves with <b>findProducts</b>. This function has the same parameters as the previous one:\n",
    "\n",
    "| Parameter name | Default value | Comment |\n",
    "| --- | --- | --- |\n",
    "| urn | no default value | urn of the collection |\n",
    "| ElasticSearchURL | 'https://services.terrascope.be/catalogue/' | is also set to <b>esOpsURL</b> |\n",
    "| start | 2015-01-01 | start acquisition datetime in iso format |\n",
    "| end | now | end acquisition datetime in iso format |\n",
    "| prstart | 2015-01-01 | start datetime of product publication in iso format |\n",
    "| prend | now | end datetime of product publication in iso format |\n",
    "| latmin | -90.0 | minimum latitude of bounding box in degrees |\n",
    "| latmax | +90.0 | maximum latitude of bounding box in degrees |\n",
    "| lonmin | -180.0 | minimum longitude of bounding box in degrees |\n",
    "| lonmax | +180.0 | maximum longitude of bounding box in degrees |\n",
    "| ccmin | 0.0 | Sentinel-2 minimum cloud cover in percent (not used for Sentinel-1 queries) |\n",
    "| ccmax | 100.0 | Sentinel-2 maximum cloud cover in percent (not used for Sentinel-1 queries) |\n",
    "| tID | blank | Sentinel-2 tile ID (not used for Sentinel-1 queries) |\n",
    "| onTerrascope | True | if True, then the fundtion returns the path to the data |\n",
    "|   |   | if False, then a download hyprlink is returned |\n",
    "| printURL | False | will print out the query URL |\n",
    "\n",
    "So, you can already imagine how to use them. We will now concentrate on the result of the function. Where <b>findNumberOfProducts</b> only returns the number of products, this function returns a list of products, with a lot of product information. So let's call it, and have a look at the result.\n"
   ]
  },
  {
   "cell_type": "code",
   "execution_count": 45,
   "metadata": {},
   "outputs": [
    {
     "name": "stdout",
     "output_type": "stream",
     "text": [
      "Number of products between 2019-06-01 and 2019-06-02 produced between 2015-01-01T00:00:00 and 2021-12-31T23:59:59 is 57\n",
      "57 products found\n"
     ]
    }
   ],
   "source": [
    "#example use\n",
    "producttype = 'urn:eop:VITO:TERRASCOPE_S2_TOC_V2'\n",
    "startdate = datetime.date(2019,6,1)\n",
    "enddate= datetime.date(2019,6,2)\n",
    "latitudemin = -90\n",
    "latitudemax = 90\n",
    "longitudemin = -180\n",
    "longitudemax = 180\n",
    "cloudcovermin = 0.0\n",
    "cloudcovermax = 100.0\n",
    "Products = findProducts(urn=producttype, \n",
    "                           start=startdate, \n",
    "                           end = enddate\n",
    "                           )\n",
    "print(len(Products), 'products found')\n",
    "\n"
   ]
  },
  {
   "cell_type": "markdown",
   "metadata": {},
   "source": [
    "So, the result is a <b>list</b> of products. <br>\n",
    "Each of these products is a <b>dictionary</b>, because it contains a lot of diverse things, and I can never remember in which order it is stored. Using a dictionary, you just have to remember the keywords to get to the data. So what are the keywords?"
   ]
  },
  {
   "cell_type": "code",
   "execution_count": 46,
   "metadata": {},
   "outputs": [
    {
     "name": "stdout",
     "output_type": "stream",
     "text": [
      "[productID]\n",
      "  urn:eop:VITO:TERRASCOPE_S2_TOC_V2:S2B_20190601T140059_22NCK_TOC_V200\n",
      "[bbox]\n",
      "  [-52.8026278, 3.5302227, -51.8121082, 4.52168]\n",
      "[productDate]\n",
      "  2019-06-01T14:00:59Z\n",
      "[productPublishedDate]\n",
      "  2020-04-28T16:51:28Z\n",
      "[productTitle]\n",
      "  S2B_20190601T140059_22NCK_TOC_V200\n",
      "[relativeOrbit]\n",
      "  67\n",
      "[productType]\n",
      "  TOC\n",
      "[cloudcover]\n",
      "  22.793\n",
      "[tileID]\n",
      "  22NCK\n",
      "[files]\n",
      "  [{'filetype': 'previews', 'filepath': '/data/MTDA/TERRASCOPE_Sentinel2/TOC_V2/2019/06/01/S2B_20190601T140059_22NCK_TOC_V200/S2B_20190601T140059_22NCK_TOC_QUICKLOOK_V200.tif', 'category': 'QUICKLOOK', 'title': 'QUICKLOOK', 'length': 1005760}, {'filetype': 'alternates', 'filepath': '/data/MTDA/TERRASCOPE_Sentinel2/TOC_V2/2019/06/01/S2B_20190601T140059_22NCK_TOC_V200/S2B_20190601T140059_22NCK_TOC_V200.xml', 'category': 'Inspire metadata', 'title': 'Inspire metadata', 'length': 39921}, {'filetype': 'related', 'filepath': '/data/MTDA/TERRASCOPE_Sentinel2/TOC_V2/2019/06/01/S2B_20190601T140059_22NCK_TOC_V200/S2B_20190601T140059_22NCK_VZA_60M_V200.tif', 'category': 'QUALITY', 'title': 'VZA_60M', 'length': 291537}, {'filetype': 'related', 'filepath': '/data/MTDA/TERRASCOPE_Sentinel2/TOC_V2/2019/06/01/S2B_20190601T140059_22NCK_TOC_V200/S2B_20190601T140059_22NCK_SCENECLASSIFICATION_20M_V200.tif', 'category': 'QUALITY', 'title': 'SCENECLASSIFICATION_20M', 'length': 4486376}, {'filetype': 'related', 'filepath': '/data/MTDA/TERRASCOPE_Sentinel2/TOC_V2/2019/06/01/S2B_20190601T140059_22NCK_TOC_V200/S2B_20190601T140059_22NCK_WVP_60M_V200.tif', 'category': 'QUALITY', 'title': 'WVP_60M', 'length': 5251392}, {'filetype': 'related', 'filepath': '/data/MTDA/TERRASCOPE_Sentinel2/TOC_V2/2019/06/01/S2B_20190601T140059_22NCK_TOC_V200/S2B_20190601T140059_22NCK_SZA_60M_V200.tif', 'category': 'QUALITY', 'title': 'SZA_60M', 'length': 134422}, {'filetype': 'related', 'filepath': '/data/MTDA/TERRASCOPE_Sentinel2/TOC_V2/2019/06/01/S2B_20190601T140059_22NCK_TOC_V200/S2B_20190601T140059_22NCK_AOT_60M_V200.tif', 'category': 'QUALITY', 'title': 'AOT_60M', 'length': 297720}, {'filetype': 'related', 'filepath': '/data/MTDA/TERRASCOPE_Sentinel2/TOC_V2/2019/06/01/S2B_20190601T140059_22NCK_TOC_V200/S2B_20190601T140059_22NCK_RAA_60M_V200.tif', 'category': 'QUALITY', 'title': 'RAA_60M', 'length': 2564018}, {'filetype': 'data', 'filepath': '/data/MTDA/TERRASCOPE_Sentinel2/TOC_V2/2019/06/01/S2B_20190601T140059_22NCK_TOC_V200/S2B_20190601T140059_22NCK_TOC-B03_10M_V200.tif', 'category': 'TOC-B03_10M', 'title': 'TOC-B03_10M', 'length': 188267067}, {'filetype': 'data', 'filepath': '/data/MTDA/TERRASCOPE_Sentinel2/TOC_V2/2019/06/01/S2B_20190601T140059_22NCK_TOC_V200/S2B_20190601T140059_22NCK_TOC-B01_60M_V200.tif', 'category': 'TOC-B01_60M', 'title': 'TOC-B01_60M', 'length': 5459000}, {'filetype': 'data', 'filepath': '/data/MTDA/TERRASCOPE_Sentinel2/TOC_V2/2019/06/01/S2B_20190601T140059_22NCK_TOC_V200/S2B_20190601T140059_22NCK_TOC-B11_20M_V200.tif', 'category': 'TOC-B11_20M', 'title': 'TOC-B11_20M', 'length': 50960722}, {'filetype': 'data', 'filepath': '/data/MTDA/TERRASCOPE_Sentinel2/TOC_V2/2019/06/01/S2B_20190601T140059_22NCK_TOC_V200/S2B_20190601T140059_22NCK_TOC-B12_20M_V200.tif', 'category': 'TOC-B12_20M', 'title': 'TOC-B12_20M', 'length': 49207828}, {'filetype': 'data', 'filepath': '/data/MTDA/TERRASCOPE_Sentinel2/TOC_V2/2019/06/01/S2B_20190601T140059_22NCK_TOC_V200/S2B_20190601T140059_22NCK_TOC-B08_10M_V200.tif', 'category': 'TOC-B08_10M', 'title': 'TOC-B08_10M', 'length': 192986893}, {'filetype': 'data', 'filepath': '/data/MTDA/TERRASCOPE_Sentinel2/TOC_V2/2019/06/01/S2B_20190601T140059_22NCK_TOC_V200/S2B_20190601T140059_22NCK_TOC-B05_20M_V200.tif', 'category': 'TOC-B05_20M', 'title': 'TOC-B05_20M', 'length': 50493930}, {'filetype': 'data', 'filepath': '/data/MTDA/TERRASCOPE_Sentinel2/TOC_V2/2019/06/01/S2B_20190601T140059_22NCK_TOC_V200/S2B_20190601T140059_22NCK_TOC-B8A_20M_V200.tif', 'category': 'TOC-B8A_20M', 'title': 'TOC-B8A_20M', 'length': 52792741}, {'filetype': 'data', 'filepath': '/data/MTDA/TERRASCOPE_Sentinel2/TOC_V2/2019/06/01/S2B_20190601T140059_22NCK_TOC_V200/S2B_20190601T140059_22NCK_TOC-B02_10M_V200.tif', 'category': 'TOC-B02_10M', 'title': 'TOC-B02_10M', 'length': 182083684}, {'filetype': 'data', 'filepath': '/data/MTDA/TERRASCOPE_Sentinel2/TOC_V2/2019/06/01/S2B_20190601T140059_22NCK_TOC_V200/S2B_20190601T140059_22NCK_TOC-B04_10M_V200.tif', 'category': 'TOC-B04_10M', 'title': 'TOC-B04_10M', 'length': 181902976}, {'filetype': 'data', 'filepath': '/data/MTDA/TERRASCOPE_Sentinel2/TOC_V2/2019/06/01/S2B_20190601T140059_22NCK_TOC_V200/S2B_20190601T140059_22NCK_TOC-B06_20M_V200.tif', 'category': 'TOC-B06_20M', 'title': 'TOC-B06_20M', 'length': 52410323}, {'filetype': 'data', 'filepath': '/data/MTDA/TERRASCOPE_Sentinel2/TOC_V2/2019/06/01/S2B_20190601T140059_22NCK_TOC_V200/S2B_20190601T140059_22NCK_TOC-B07_20M_V200.tif', 'category': 'TOC-B07_20M', 'title': 'TOC-B07_20M', 'length': 52785102}]\n"
     ]
    }
   ],
   "source": [
    "for k in Products[0].keys(): #the keys are the same for every product, of course\n",
    "    print('['+k+']')\n",
    "    print(' ', Products[0][k]) #so we print the key first, then its value"
   ]
  },
  {
   "cell_type": "markdown",
   "metadata": {},
   "source": [
    "Of course, when you change the code of <b>findProducts</b>, these keys may be different. But as it is, these are the keywords, with some explanation\n",
    "\n",
    "| keyword | comment |\n",
    "| --- | --- |\n",
    "| productID | a unique identifyer of the product, composed of the urn of the collection, and the productTitle |\n",
    "| bbox | bounding box co-ordinates, in this order: longitude min, latitude min, longitude max, latitude max |\n",
    "| productDate | acquisition starting datetime of the product |\n",
    "| productPublishedDate | datetime of publication of the product in the catalog |\n",
    "| relativeOrbit | acquisitions with the same relative orbit overlap completely |\n",
    "| productType | description of the product |\n",
    "| cloudcover | percentage of clouds in the product (Sentinel-2 only)|\n",
    "| tileID | identifyer of the product in the UTM tiling grid (Sentinel-2 only) |\n",
    "| files | a list of files associated to this product |\n",
    "\n",
    "The <b>files</b> is again a list of entries. Each is about a single file on disk. The entries are described in a dictionary with these keywords:\n",
    "\n",
    "| keyword | comment |\n",
    "| --- | --- |\n",
    "| filetype | <b>preview</b>, a quicklook image |\n",
    "|   | <b>data</b> , the actual data |\n",
    "|   | <b>related</b>, data derivered from the actual data |\n",
    "|   | <b>alternates</b>, metadata |    \n",
    "| filepath | actual string that points to the file on the Terrascope file system |\n",
    "| category | file type qualiyer |\n",
    "| title | file content description |\n",
    "| length | file size in bytes |"
   ]
  },
  {
   "cell_type": "code",
   "execution_count": 56,
   "metadata": {},
   "outputs": [
    {
     "name": "stdout",
     "output_type": "stream",
     "text": [
      "Product date           tileID  filetype    category          title                     size    \n",
      "--------------------   ------  ----------  ----------------   -----------------------   ---------\n",
      "2019-06-01T14:00:59Z   22NCK   previews    QUICKLOOK          QUICKLOOK                   1005760\n",
      "2019-06-01T14:00:59Z   22NCK   alternates  Inspire metadata   Inspire metadata              39921\n",
      "2019-06-01T14:00:59Z   22NCK   related     QUALITY            VZA_60M                      291537\n",
      "2019-06-01T14:00:59Z   22NCK   related     QUALITY            SCENECLASSIFICATION_20M     4486376\n",
      "2019-06-01T14:00:59Z   22NCK   related     QUALITY            WVP_60M                     5251392\n",
      "2019-06-01T14:00:59Z   22NCK   related     QUALITY            SZA_60M                      134422\n",
      "2019-06-01T14:00:59Z   22NCK   related     QUALITY            AOT_60M                      297720\n",
      "2019-06-01T14:00:59Z   22NCK   related     QUALITY            RAA_60M                     2564018\n",
      "2019-06-01T14:00:59Z   22NCK   data        TOC-B03_10M        TOC-B03_10M               188267067\n",
      "2019-06-01T14:00:59Z   22NCK   data        TOC-B01_60M        TOC-B01_60M                 5459000\n",
      "2019-06-01T14:00:59Z   22NCK   data        TOC-B11_20M        TOC-B11_20M                50960722\n",
      "2019-06-01T14:00:59Z   22NCK   data        TOC-B12_20M        TOC-B12_20M                49207828\n",
      "2019-06-01T14:00:59Z   22NCK   data        TOC-B08_10M        TOC-B08_10M               192986893\n",
      "2019-06-01T14:00:59Z   22NCK   data        TOC-B05_20M        TOC-B05_20M                50493930\n",
      "2019-06-01T14:00:59Z   22NCK   data        TOC-B8A_20M        TOC-B8A_20M                52792741\n",
      "2019-06-01T14:00:59Z   22NCK   data        TOC-B02_10M        TOC-B02_10M               182083684\n",
      "2019-06-01T14:00:59Z   22NCK   data        TOC-B04_10M        TOC-B04_10M               181902976\n",
      "2019-06-01T14:00:59Z   22NCK   data        TOC-B06_20M        TOC-B06_20M                52410323\n",
      "2019-06-01T14:00:59Z   22NCK   data        TOC-B07_20M        TOC-B07_20M                52785102\n",
      "\n",
      "2019-06-01T14:00:59Z   22NBL   previews    QUICKLOOK          QUICKLOOK                    652496\n",
      "2019-06-01T14:00:59Z   22NBL   alternates  Inspire metadata   Inspire metadata              39921\n",
      "2019-06-01T14:00:59Z   22NBL   related     QUALITY            AOT_60M                      256918\n",
      "2019-06-01T14:00:59Z   22NBL   related     QUALITY            WVP_60M                     3266048\n",
      "2019-06-01T14:00:59Z   22NBL   related     QUALITY            RAA_60M                      723017\n",
      "2019-06-01T14:00:59Z   22NBL   related     QUALITY            SCENECLASSIFICATION_20M     3051888\n",
      "2019-06-01T14:00:59Z   22NBL   related     QUALITY            VZA_60M                      188279\n",
      "2019-06-01T14:00:59Z   22NBL   related     QUALITY            SZA_60M                      136132\n",
      "2019-06-01T14:00:59Z   22NBL   data        TOC-B8A_20M        TOC-B8A_20M                34326716\n",
      "2019-06-01T14:00:59Z   22NBL   data        TOC-B04_10M        TOC-B04_10M               117240271\n",
      "2019-06-01T14:00:59Z   22NBL   data        TOC-B08_10M        TOC-B08_10M               123541350\n",
      "2019-06-01T14:00:59Z   22NBL   data        TOC-B07_20M        TOC-B07_20M                34312959\n",
      "2019-06-01T14:00:59Z   22NBL   data        TOC-B02_10M        TOC-B02_10M               117428151\n",
      "2019-06-01T14:00:59Z   22NBL   data        TOC-B11_20M        TOC-B11_20M                33084353\n",
      "2019-06-01T14:00:59Z   22NBL   data        TOC-B05_20M        TOC-B05_20M                33013982\n",
      "2019-06-01T14:00:59Z   22NBL   data        TOC-B01_60M        TOC-B01_60M                 3630047\n",
      "2019-06-01T14:00:59Z   22NBL   data        TOC-B12_20M        TOC-B12_20M                31921080\n",
      "2019-06-01T14:00:59Z   22NBL   data        TOC-B03_10M        TOC-B03_10M               120999971\n",
      "2019-06-01T14:00:59Z   22NBL   data        TOC-B06_20M        TOC-B06_20M                34089903\n",
      "\n",
      "2019-06-01T10:20:29Z   33UVV   previews    QUICKLOOK          QUICKLOOK                    944751\n",
      "2019-06-01T10:20:29Z   33UVV   alternates  Inspire metadata   Inspire metadata              39921\n",
      "2019-06-01T10:20:29Z   33UVV   related     QUALITY            VZA_60M                      194344\n",
      "2019-06-01T10:20:29Z   33UVV   related     QUALITY            RAA_60M                     1329864\n",
      "2019-06-01T10:20:29Z   33UVV   related     QUALITY            WVP_60M                     3667604\n",
      "2019-06-01T10:20:29Z   33UVV   related     QUALITY            SZA_60M                      106588\n",
      "2019-06-01T10:20:29Z   33UVV   related     QUALITY            SCENECLASSIFICATION_20M     3485451\n",
      "2019-06-01T10:20:29Z   33UVV   related     QUALITY            AOT_60M                      305948\n",
      "2019-06-01T10:20:29Z   33UVV   data        TOC-B02_10M        TOC-B02_10M               157646733\n",
      "2019-06-01T10:20:29Z   33UVV   data        TOC-B08_10M        TOC-B08_10M               163862306\n",
      "2019-06-01T10:20:29Z   33UVV   data        TOC-B01_60M        TOC-B01_60M                 4744528\n",
      "2019-06-01T10:20:29Z   33UVV   data        TOC-B11_20M        TOC-B11_20M                43780810\n",
      "2019-06-01T10:20:29Z   33UVV   data        TOC-B03_10M        TOC-B03_10M               160115277\n",
      "2019-06-01T10:20:29Z   33UVV   data        TOC-B07_20M        TOC-B07_20M                45582828\n",
      "2019-06-01T10:20:29Z   33UVV   data        TOC-B8A_20M        TOC-B8A_20M                45664062\n",
      "2019-06-01T10:20:29Z   33UVV   data        TOC-B12_20M        TOC-B12_20M                42864214\n",
      "2019-06-01T10:20:29Z   33UVV   data        TOC-B04_10M        TOC-B04_10M               159525376\n",
      "2019-06-01T10:20:29Z   33UVV   data        TOC-B06_20M        TOC-B06_20M                45050434\n",
      "2019-06-01T10:20:29Z   33UVV   data        TOC-B05_20M        TOC-B05_20M                43514836\n",
      "\n",
      "2019-06-01T10:20:29Z   33UVA   previews    QUICKLOOK          QUICKLOOK                    537705\n",
      "2019-06-01T10:20:29Z   33UVA   alternates  Inspire metadata   Inspire metadata              39921\n",
      "2019-06-01T10:20:29Z   33UVA   related     QUALITY            SCENECLASSIFICATION_20M     1675321\n",
      "2019-06-01T10:20:29Z   33UVA   related     QUALITY            RAA_60M                     1950214\n",
      "2019-06-01T10:20:29Z   33UVA   related     QUALITY            SZA_60M                      104885\n",
      "2019-06-01T10:20:29Z   33UVA   related     QUALITY            AOT_60M                       25092\n",
      "2019-06-01T10:20:29Z   33UVA   related     QUALITY            VZA_60M                      190248\n",
      "2019-06-01T10:20:29Z   33UVA   related     QUALITY            WVP_60M                      157048\n",
      "2019-06-01T10:20:29Z   33UVA   data        TOC-B07_20M        TOC-B07_20M                26053907\n",
      "2019-06-01T10:20:29Z   33UVA   data        TOC-B05_20M        TOC-B05_20M                26218400\n",
      "2019-06-01T10:20:29Z   33UVA   data        TOC-B06_20M        TOC-B06_20M                26151577\n",
      "2019-06-01T10:20:29Z   33UVA   data        TOC-B12_20M        TOC-B12_20M                24269674\n",
      "2019-06-01T10:20:29Z   33UVA   data        TOC-B04_10M        TOC-B04_10M                94579388\n",
      "2019-06-01T10:20:29Z   33UVA   data        TOC-B08_10M        TOC-B08_10M                93890099\n",
      "2019-06-01T10:20:29Z   33UVA   data        TOC-B11_20M        TOC-B11_20M                24490678\n",
      "2019-06-01T10:20:29Z   33UVA   data        TOC-B03_10M        TOC-B03_10M                95923657\n",
      "2019-06-01T10:20:29Z   33UVA   data        TOC-B01_60M        TOC-B01_60M                 3166079\n",
      "2019-06-01T10:20:29Z   33UVA   data        TOC-B02_10M        TOC-B02_10M                97687017\n",
      "2019-06-01T10:20:29Z   33UVA   data        TOC-B8A_20M        TOC-B8A_20M                26060882\n",
      "\n",
      "2019-06-01T10:20:29Z   33UUA   previews    QUICKLOOK          QUICKLOOK                    540618\n",
      "2019-06-01T10:20:29Z   33UUA   alternates  Inspire metadata   Inspire metadata              39921\n",
      "2019-06-01T10:20:29Z   33UUA   related     QUALITY            WVP_60M                      851816\n",
      "2019-06-01T10:20:29Z   33UUA   related     QUALITY            VZA_60M                      239449\n",
      "2019-06-01T10:20:29Z   33UUA   related     QUALITY            SZA_60M                      121708\n",
      "2019-06-01T10:20:29Z   33UUA   related     QUALITY            SCENECLASSIFICATION_20M     2015142\n",
      "2019-06-01T10:20:29Z   33UUA   related     QUALITY            RAA_60M                     2495646\n",
      "2019-06-01T10:20:29Z   33UUA   related     QUALITY            AOT_60M                       24770\n",
      "2019-06-01T10:20:29Z   33UUA   data        TOC-B11_20M        TOC-B11_20M                26807360\n",
      "2019-06-01T10:20:29Z   33UUA   data        TOC-B12_20M        TOC-B12_20M                26529267\n",
      "2019-06-01T10:20:29Z   33UUA   data        TOC-B07_20M        TOC-B07_20M                28346843\n",
      "2019-06-01T10:20:29Z   33UUA   data        TOC-B04_10M        TOC-B04_10M               103901278\n",
      "2019-06-01T10:20:29Z   33UUA   data        TOC-B08_10M        TOC-B08_10M               103100565\n",
      "2019-06-01T10:20:29Z   33UUA   data        TOC-B05_20M        TOC-B05_20M                28165818\n",
      "2019-06-01T10:20:29Z   33UUA   data        TOC-B8A_20M        TOC-B8A_20M                28338921\n",
      "2019-06-01T10:20:29Z   33UUA   data        TOC-B03_10M        TOC-B03_10M               105989477\n",
      "2019-06-01T10:20:29Z   33UUA   data        TOC-B02_10M        TOC-B02_10M               107292070\n",
      "2019-06-01T10:20:29Z   33UUA   data        TOC-B01_60M        TOC-B01_60M                 3298407\n",
      "2019-06-01T10:20:29Z   33UUA   data        TOC-B06_20M        TOC-B06_20M                28337318\n",
      "\n",
      "2019-06-01T10:20:29Z   32UMV   previews    QUICKLOOK          QUICKLOOK                    443664\n",
      "2019-06-01T10:20:29Z   32UMV   alternates  Inspire metadata   Inspire metadata              39917\n",
      "2019-06-01T10:20:29Z   32UMV   related     QUALITY            WVP_60M                     1547412\n",
      "2019-06-01T10:20:29Z   32UMV   related     QUALITY            SZA_60M                      100833\n",
      "2019-06-01T10:20:29Z   32UMV   related     QUALITY            RAA_60M                      410135\n",
      "2019-06-01T10:20:29Z   32UMV   related     QUALITY            AOT_60M                      296496\n",
      "2019-06-01T10:20:29Z   32UMV   related     QUALITY            SCENECLASSIFICATION_20M     1145486\n",
      "2019-06-01T10:20:29Z   32UMV   related     QUALITY            VZA_60M                      116311\n",
      "2019-06-01T10:20:29Z   32UMV   data        TOC-B07_20M        TOC-B07_20M                19447516\n",
      "2019-06-01T10:20:29Z   32UMV   data        TOC-B04_10M        TOC-B04_10M                67242529\n",
      "2019-06-01T10:20:29Z   32UMV   data        TOC-B03_10M        TOC-B03_10M                67603158\n",
      "2019-06-01T10:20:29Z   32UMV   data        TOC-B01_60M        TOC-B01_60M                 1930207\n",
      "2019-06-01T10:20:29Z   32UMV   data        TOC-B02_10M        TOC-B02_10M                65613739\n",
      "2019-06-01T10:20:29Z   32UMV   data        TOC-B11_20M        TOC-B11_20M                18733210\n",
      "2019-06-01T10:20:29Z   32UMV   data        TOC-B05_20M        TOC-B05_20M                18218738\n",
      "2019-06-01T10:20:29Z   32UMV   data        TOC-B08_10M        TOC-B08_10M                70134072\n",
      "2019-06-01T10:20:29Z   32UMV   data        TOC-B8A_20M        TOC-B8A_20M                19487615\n",
      "2019-06-01T10:20:29Z   32UMV   data        TOC-B12_20M        TOC-B12_20M                18343686\n",
      "2019-06-01T10:20:29Z   32UMV   data        TOC-B06_20M        TOC-B06_20M                19000409\n",
      "\n",
      "2019-06-01T10:20:29Z   32UMA   previews    QUICKLOOK          QUICKLOOK                    169617\n",
      "2019-06-01T10:20:29Z   32UMA   alternates  Inspire metadata   Inspire metadata              39917\n",
      "2019-06-01T10:20:29Z   32UMA   related     QUALITY            AOT_60M                      101342\n",
      "2019-06-01T10:20:29Z   32UMA   related     QUALITY            WVP_60M                      762582\n",
      "2019-06-01T10:20:29Z   32UMA   related     QUALITY            VZA_60M                       61330\n",
      "2019-06-01T10:20:29Z   32UMA   related     QUALITY            SCENECLASSIFICATION_20M      677365\n",
      "2019-06-01T10:20:29Z   32UMA   related     QUALITY            SZA_60M                      107222\n",
      "2019-06-01T10:20:29Z   32UMA   related     QUALITY            RAA_60M                      252730\n",
      "2019-06-01T10:20:29Z   32UMA   data        TOC-B08_10M        TOC-B08_10M                25304828\n",
      "2019-06-01T10:20:29Z   32UMA   data        TOC-B01_60M        TOC-B01_60M                  727291\n",
      "2019-06-01T10:20:29Z   32UMA   data        TOC-B05_20M        TOC-B05_20M                 6623891\n",
      "2019-06-01T10:20:29Z   32UMA   data        TOC-B03_10M        TOC-B03_10M                24407463\n",
      "2019-06-01T10:20:29Z   32UMA   data        TOC-B11_20M        TOC-B11_20M                 6797511\n",
      "2019-06-01T10:20:29Z   32UMA   data        TOC-B06_20M        TOC-B06_20M                 6901666\n",
      "2019-06-01T10:20:29Z   32UMA   data        TOC-B02_10M        TOC-B02_10M                23789585\n",
      "2019-06-01T10:20:29Z   32UMA   data        TOC-B12_20M        TOC-B12_20M                 6648728\n",
      "2019-06-01T10:20:29Z   32UMA   data        TOC-B07_20M        TOC-B07_20M                 7014839\n",
      "2019-06-01T10:20:29Z   32UMA   data        TOC-B8A_20M        TOC-B8A_20M                 7031466\n",
      "2019-06-01T10:20:29Z   32UMA   data        TOC-B04_10M        TOC-B04_10M                24304966\n",
      "\n",
      "2019-06-01T10:20:29Z   32TPQ   previews    QUICKLOOK          QUICKLOOK                    497109\n",
      "2019-06-01T10:20:29Z   32TPQ   alternates  Inspire metadata   Inspire metadata              39919\n",
      "2019-06-01T10:20:29Z   32TPQ   related     QUALITY            AOT_60M                      220212\n",
      "2019-06-01T10:20:29Z   32TPQ   related     QUALITY            SZA_60M                      102196\n",
      "2019-06-01T10:20:29Z   32TPQ   related     QUALITY            VZA_60M                      124003\n",
      "2019-06-01T10:20:29Z   32TPQ   related     QUALITY            WVP_60M                     2589014\n",
      "2019-06-01T10:20:29Z   32TPQ   related     QUALITY            RAA_60M                      521728\n",
      "2019-06-01T10:20:29Z   32TPQ   related     QUALITY            SCENECLASSIFICATION_20M     1425520\n",
      "2019-06-01T10:20:29Z   32TPQ   data        TOC-B06_20M        TOC-B06_20M                21528618\n",
      "2019-06-01T10:20:29Z   32TPQ   data        TOC-B01_60M        TOC-B01_60M                 2154074\n",
      "2019-06-01T10:20:29Z   32TPQ   data        TOC-B08_10M        TOC-B08_10M                80320669\n",
      "2019-06-01T10:20:29Z   32TPQ   data        TOC-B8A_20M        TOC-B8A_20M                22152337\n",
      "2019-06-01T10:20:29Z   32TPQ   data        TOC-B11_20M        TOC-B11_20M                21274173\n",
      "2019-06-01T10:20:29Z   32TPQ   data        TOC-B07_20M        TOC-B07_20M                22032115\n",
      "2019-06-01T10:20:29Z   32TPQ   data        TOC-B04_10M        TOC-B04_10M                78657825\n",
      "2019-06-01T10:20:29Z   32TPQ   data        TOC-B12_20M        TOC-B12_20M                21070499\n",
      "2019-06-01T10:20:29Z   32TPQ   data        TOC-B03_10M        TOC-B03_10M                77775309\n",
      "2019-06-01T10:20:29Z   32TPQ   data        TOC-B05_20M        TOC-B05_20M                20736284\n",
      "2019-06-01T10:20:29Z   32TPQ   data        TOC-B02_10M        TOC-B02_10M                75678078\n",
      "\n",
      "2019-06-01T10:20:29Z   32TPP   previews    QUICKLOOK          QUICKLOOK                    208752\n",
      "2019-06-01T10:20:29Z   32TPP   alternates  Inspire metadata   Inspire metadata              39919\n",
      "2019-06-01T10:20:29Z   32TPP   related     QUALITY            AOT_60M                      126194\n",
      "2019-06-01T10:20:29Z   32TPP   related     QUALITY            WVP_60M                      818024\n",
      "2019-06-01T10:20:29Z   32TPP   related     QUALITY            RAA_60M                      282787\n",
      "2019-06-01T10:20:29Z   32TPP   related     QUALITY            SZA_60M                      109003\n",
      "2019-06-01T10:20:29Z   32TPP   related     QUALITY            SCENECLASSIFICATION_20M      657062\n",
      "2019-06-01T10:20:29Z   32TPP   related     QUALITY            VZA_60M                       67843\n",
      "2019-06-01T10:20:29Z   32TPP   data        TOC-B01_60M        TOC-B01_60M                  905458\n",
      "2019-06-01T10:20:29Z   32TPP   data        TOC-B04_10M        TOC-B04_10M                30609824\n",
      "2019-06-01T10:20:29Z   32TPP   data        TOC-B11_20M        TOC-B11_20M                 8392476\n",
      "2019-06-01T10:20:29Z   32TPP   data        TOC-B08_10M        TOC-B08_10M                31916500\n",
      "2019-06-01T10:20:29Z   32TPP   data        TOC-B06_20M        TOC-B06_20M                 8610582\n",
      "2019-06-01T10:20:29Z   32TPP   data        TOC-B12_20M        TOC-B12_20M                 8199751\n",
      "2019-06-01T10:20:29Z   32TPP   data        TOC-B05_20M        TOC-B05_20M                 8240271\n",
      "2019-06-01T10:20:29Z   32TPP   data        TOC-B07_20M        TOC-B07_20M                 8703044\n",
      "2019-06-01T10:20:29Z   32TPP   data        TOC-B02_10M        TOC-B02_10M                30005726\n",
      "2019-06-01T10:20:29Z   32TPP   data        TOC-B03_10M        TOC-B03_10M                30805915\n",
      "2019-06-01T10:20:29Z   32TPP   data        TOC-B8A_20M        TOC-B8A_20M                 8721912\n",
      "\n",
      "2019-06-01T10:20:29Z   32TPN   previews    QUICKLOOK          QUICKLOOK                     16296\n",
      "2019-06-01T10:20:29Z   32TPN   alternates  Inspire metadata   Inspire metadata              39919\n",
      "2019-06-01T10:20:29Z   32TPN   related     QUALITY            VZA_60M                       19151\n",
      "2019-06-01T10:20:29Z   32TPN   related     QUALITY            AOT_60M                       22978\n",
      "2019-06-01T10:20:29Z   32TPN   related     QUALITY            WVP_60M                       22306\n",
      "2019-06-01T10:20:29Z   32TPN   related     QUALITY            RAA_60M                      177853\n",
      "2019-06-01T10:20:29Z   32TPN   related     QUALITY            SZA_60M                      118267\n",
      "2019-06-01T10:20:29Z   32TPN   related     QUALITY            SCENECLASSIFICATION_20M       93182\n",
      "2019-06-01T10:20:29Z   32TPN   data        TOC-B03_10M        TOC-B03_10M                 1321721\n",
      "2019-06-01T10:20:29Z   32TPN   data        TOC-B12_20M        TOC-B12_20M                  321430\n",
      "2019-06-01T10:20:29Z   32TPN   data        TOC-B06_20M        TOC-B06_20M                  347841\n",
      "2019-06-01T10:20:29Z   32TPN   data        TOC-B01_60M        TOC-B01_60M                   48985\n",
      "2019-06-01T10:20:29Z   32TPN   data        TOC-B04_10M        TOC-B04_10M                 1305606\n",
      "2019-06-01T10:20:29Z   32TPN   data        TOC-B8A_20M        TOC-B8A_20M                  345061\n",
      "2019-06-01T10:20:29Z   32TPN   data        TOC-B08_10M        TOC-B08_10M                 1287738\n",
      "2019-06-01T10:20:29Z   32TPN   data        TOC-B02_10M        TOC-B02_10M                 1328513\n",
      "2019-06-01T10:20:29Z   32TPN   data        TOC-B11_20M        TOC-B11_20M                  323961\n",
      "2019-06-01T10:20:29Z   32TPN   data        TOC-B07_20M        TOC-B07_20M                  346588\n",
      "2019-06-01T10:20:29Z   32TPN   data        TOC-B05_20M        TOC-B05_20M                  349428\n",
      "\n"
     ]
    }
   ],
   "source": [
    "print('Product date'.ljust(22), 'tileID', ' filetype'.ljust(11), ' category'.ljust(18), 'title'.ljust(25), 'size'.ljust(8))\n",
    "print('--------------------   ------  ----------  ----------------   -----------------------   ---------')\n",
    "for p in Products[:10]:    \n",
    "    for f in p['files']:\n",
    "        print(p['productDate'].ljust(22), p['tileID'].ljust(6), '',f['filetype'].ljust(11), f['category'].ljust(18), f['title'].ljust(25), '{0:9d}'.format(f['length']))\n",
    "    print()"
   ]
  },
  {
   "cell_type": "markdown",
   "metadata": {},
   "source": [
    "What if you want to make a list of all NDVI products produced over a certain period for a list of UTM tiles?<br>\n",
    "Well, let's see.\n",
    "    "
   ]
  },
  {
   "cell_type": "code",
   "execution_count": 21,
   "metadata": {},
   "outputs": [],
   "source": [
    "TileList=['31UES', '31UFS', '31UGS']  #change this list as you please"
   ]
  },
  {
   "cell_type": "code",
   "execution_count": 23,
   "metadata": {},
   "outputs": [
    {
     "name": "stdout",
     "output_type": "stream",
     "text": [
      "Number of products between 2015-01-01T00:00:00 and 2020-08-19T09:30:13.157314 produced between 2020-07-25T00:00:00 and 2020-08-05T00:00:00 is 2\n",
      "Number of products between 2015-01-01T00:00:00 and 2020-08-19T09:30:13.157314 produced between 2020-07-25T00:00:00 and 2020-08-05T00:00:00 is 1\n",
      "Number of products between 2015-01-01T00:00:00 and 2020-08-19T09:30:13.157314 produced between 2020-07-25T00:00:00 and 2020-08-05T00:00:00 is 2\n",
      "5 products found\n"
     ]
    },
    {
     "ename": "KeyError",
     "evalue": "'tileId'",
     "output_type": "error",
     "traceback": [
      "\u001b[0;31m---------------------------------------------------------------------------\u001b[0m",
      "\u001b[0;31mKeyError\u001b[0m                                  Traceback (most recent call last)",
      "\u001b[0;32m<ipython-input-23-909c6d753837>\u001b[0m in \u001b[0;36m<module>\u001b[0;34m\u001b[0m\n\u001b[1;32m     15\u001b[0m \u001b[0mprint\u001b[0m\u001b[0;34m(\u001b[0m\u001b[0mlen\u001b[0m\u001b[0;34m(\u001b[0m\u001b[0mproductList\u001b[0m\u001b[0;34m)\u001b[0m\u001b[0;34m,\u001b[0m \u001b[0;34m'products found'\u001b[0m\u001b[0;34m)\u001b[0m\u001b[0;34m\u001b[0m\u001b[0;34m\u001b[0m\u001b[0m\n\u001b[1;32m     16\u001b[0m \u001b[0;32mfor\u001b[0m \u001b[0mp\u001b[0m \u001b[0;32min\u001b[0m \u001b[0mproductList\u001b[0m\u001b[0;34m:\u001b[0m\u001b[0;34m\u001b[0m\u001b[0;34m\u001b[0m\u001b[0m\n\u001b[0;32m---> 17\u001b[0;31m     \u001b[0mprint\u001b[0m\u001b[0;34m(\u001b[0m\u001b[0mp\u001b[0m\u001b[0;34m[\u001b[0m\u001b[0;34m'tileId'\u001b[0m\u001b[0;34m]\u001b[0m\u001b[0;34m)\u001b[0m\u001b[0;34m\u001b[0m\u001b[0;34m\u001b[0m\u001b[0m\n\u001b[0m",
      "\u001b[0;31mKeyError\u001b[0m: 'tileId'"
     ]
    }
   ],
   "source": [
    "productionStart = datetime.datetime(2020,7,25,0,0,0)\n",
    "productionEnd = datetime.datetime(2020,8,5,0,0,0)\n",
    "cloudcovermin = 0.0 #this is not necessary: the default value for the function is 0.0; but it is a bit clearer this way\n",
    "cloudcovermax = 15.0\n",
    "producttype = 'urn:eop:VITO:TERRASCOPE_S2_NDVI_V2'\n",
    "\n",
    "productList=[]\n",
    "for t in TileList:\n",
    "    productList=productList + findProducts(urn=producttype, \n",
    "                                           ccmin=cloudcovermin, \n",
    "                                           ccmax=cloudcovermax,\n",
    "                                           tID=t,\n",
    "                                           prstart=productionStart.isoformat(),\n",
    "                                           prend = productionEnd.isoformat())\n",
    "print(len(productList), 'products found')\n"
   ]
  },
  {
   "cell_type": "code",
   "execution_count": 28,
   "metadata": {},
   "outputs": [
    {
     "name": "stdout",
     "output_type": "stream",
     "text": [
      "31UES  2020-07-31T10:36:29Z   2020-07-31T23:47:50Z\n",
      "31UES  2020-07-27T10:56:19Z   2020-07-28T00:24:11Z\n",
      "31UFS  2020-07-31T10:36:29Z   2020-08-01T00:18:49Z\n",
      "31UGS  2020-07-31T10:36:29Z   2020-08-01T00:15:48Z\n",
      "31UGS  2020-07-29T10:50:31Z   2020-07-30T08:22:39Z\n"
     ]
    }
   ],
   "source": [
    "for p in productList:\n",
    "    print(p['tileID'].ljust(6), p['productDate'].ljust(22), p['productPublishedDate'].ljust(20))"
   ]
  },
  {
   "cell_type": "markdown",
   "metadata": {},
   "source": [
    "Let's make a list of the filepath to the NDVI files "
   ]
  },
  {
   "cell_type": "code",
   "execution_count": 29,
   "metadata": {},
   "outputs": [
    {
     "name": "stdout",
     "output_type": "stream",
     "text": [
      "/data/MTDA/TERRASCOPE_Sentinel2/NDVI_V2/2020/07/31/S2B_20200731T103629_31UES_NDVI_V200/S2B_20200731T103629_31UES_NDVI_10M_V200.tif\n",
      "/data/MTDA/TERRASCOPE_Sentinel2/NDVI_V2/2020/07/27/S2B_20200727T105619_31UES_NDVI_V200/S2B_20200727T105619_31UES_NDVI_10M_V200.tif\n",
      "/data/MTDA/TERRASCOPE_Sentinel2/NDVI_V2/2020/07/31/S2B_20200731T103629_31UFS_NDVI_V200/S2B_20200731T103629_31UFS_NDVI_10M_V200.tif\n",
      "/data/MTDA/TERRASCOPE_Sentinel2/NDVI_V2/2020/07/31/S2B_20200731T103629_31UGS_NDVI_V200/S2B_20200731T103629_31UGS_NDVI_10M_V200.tif\n",
      "/data/MTDA/TERRASCOPE_Sentinel2/NDVI_V2/2020/07/29/S2A_20200729T105031_31UGS_NDVI_V200/S2A_20200729T105031_31UGS_NDVI_10M_V200.tif\n"
     ]
    }
   ],
   "source": [
    "fileList=[]\n",
    "for p in productList:\n",
    "    for f in p['files']:\n",
    "        if f['filetype'] == 'data':\n",
    "            fileList.append(f['filepath'])\n",
    "\n",
    "for f in fileList:\n",
    "    print(f)\n",
    "    "
   ]
  },
  {
   "cell_type": "markdown",
   "metadata": {},
   "source": [
    "These are useable if you work on the Terrascope cluster. But what if you are trying to download the files?<br>\n",
    "For starters, you need to specify <b>onTerrascope=False</b> in your query"
   ]
  },
  {
   "cell_type": "code",
   "execution_count": 32,
   "metadata": {},
   "outputs": [
    {
     "name": "stdout",
     "output_type": "stream",
     "text": [
      "Number of products between 2015-01-01T00:00:00 and 2023-12-31T23:59:59 produced between 2020-07-25T00:00:00 and 2020-08-05T00:00:00 is 2\n",
      "Number of products between 2015-01-01T00:00:00 and 2023-12-31T23:59:59 produced between 2020-07-25T00:00:00 and 2020-08-05T00:00:00 is 1\n",
      "Number of products between 2015-01-01T00:00:00 and 2023-12-31T23:59:59 produced between 2020-07-25T00:00:00 and 2020-08-05T00:00:00 is 2\n",
      "5 products found\n"
     ]
    }
   ],
   "source": [
    "productList=[]\n",
    "for t in TileList:\n",
    "    productList=productList + findProducts(urn=producttype, \n",
    "                                           ccmin=cloudcovermin, \n",
    "                                           ccmax=cloudcovermax,\n",
    "                                           tID=t,\n",
    "                                           prstart=productionStart.isoformat(),\n",
    "                                           prend = productionEnd.isoformat(),\n",
    "                                           onTerrascope=False)\n",
    "print(len(productList), 'products found')\n"
   ]
  },
  {
   "cell_type": "code",
   "execution_count": 33,
   "metadata": {},
   "outputs": [
    {
     "name": "stdout",
     "output_type": "stream",
     "text": [
      "https://services.terrascope.be/download/Sentinel2/NDVI_V2/2020/07/31/S2B_20200731T103629_31UES_NDVI_V200/S2B_20200731T103629_31UES_NDVI_10M_V200.tif\n",
      "https://services.terrascope.be/download/Sentinel2/NDVI_V2/2020/07/27/S2B_20200727T105619_31UES_NDVI_V200/S2B_20200727T105619_31UES_NDVI_10M_V200.tif\n",
      "https://services.terrascope.be/download/Sentinel2/NDVI_V2/2020/07/31/S2B_20200731T103629_31UFS_NDVI_V200/S2B_20200731T103629_31UFS_NDVI_10M_V200.tif\n",
      "https://services.terrascope.be/download/Sentinel2/NDVI_V2/2020/07/31/S2B_20200731T103629_31UGS_NDVI_V200/S2B_20200731T103629_31UGS_NDVI_10M_V200.tif\n",
      "https://services.terrascope.be/download/Sentinel2/NDVI_V2/2020/07/29/S2A_20200729T105031_31UGS_NDVI_V200/S2A_20200729T105031_31UGS_NDVI_10M_V200.tif\n"
     ]
    }
   ],
   "source": [
    "fileList=[]\n",
    "for p in productList:\n",
    "    for f in p['files']:\n",
    "        if f['filetype'] == 'data':\n",
    "            fileList.append(f['filepath'])\n",
    "\n",
    "for f in fileList:\n",
    "    print(f)\n",
    "    "
   ]
  },
  {
   "cell_type": "markdown",
   "metadata": {},
   "source": [
    "### Now, how can you download these files? <br>\n",
    "We'll use the packaging service, which will add all requested files in a single ZIP file, which is then downloaded<br>\n",
    "First, you need to provide authentication. "
   ]
  },
  {
   "cell_type": "code",
   "execution_count": 34,
   "metadata": {},
   "outputs": [],
   "source": [
    "username = 'ts_demo_01'\n",
    "password = 'TSdemoAcc2019'\n",
    "keycloak_url = \"https://sso.vgt.vito.be/auth/realms/terrascope/protocol/openid-connect/token\"\n",
    "body = {\n",
    "    \"client_id\": \"oscars-download-packager\",\n",
    "    \"client_secret\": \"154ebdc5-bcb6-45b6-bda6-487ca77fcc85\",\n",
    "    \"username\": username,\n",
    "    \"password\": password,\n",
    "    \"grant_type\": \"password\"\n",
    "}\n",
    "response = requests.post(keycloak_url, body)\n",
    "access_token = response.json()['access_token']"
   ]
  },
  {
   "cell_type": "code",
   "execution_count": 35,
   "metadata": {},
   "outputs": [
    {
     "name": "stdout",
     "output_type": "stream",
     "text": [
      "Authenticated: ts_demo_01\n"
     ]
    }
   ],
   "source": [
    "authorisation = requests.get(\"https://services.terrascope.be/package/auth\", headers={\"Authorization\": f\"Bearer {access_token}\"})\n",
    "print(authorisation.text)"
   ]
  },
  {
   "cell_type": "code",
   "execution_count": 37,
   "metadata": {},
   "outputs": [],
   "source": [
    "downloadfilename='NDVIDemo.zip'\n",
    "r = requests.post('https://services.terrascope.be/package/zip', headers={\"Authorization\": f\"Bearer {access_token}\"}, json=fileList)\n",
    "os.chdir('.')\n",
    "if r.status_code is requests.status_codes.codes.OK:\n",
    "    open(downloadfilename,'wb').write(r.content)\n",
    "else:\n",
    "    print(r.status_code)\n",
    "    print(r.text)"
   ]
  },
  {
   "cell_type": "markdown",
   "metadata": {},
   "source": [
    "Again, this is only needed if you want to <b>physically download the files</b>. Never do this when working on the Terrascope platform.<br>\n",
    "This last example is there just to provide you with some code that you can then adapt on your own local machine.<br>\n",
    "if you work with Anaconda, you can download this notebook and run it locally on you machine"
   ]
  },
  {
   "cell_type": "code",
   "execution_count": null,
   "metadata": {},
   "outputs": [],
   "source": []
  }
 ],
 "metadata": {
  "kernelspec": {
   "display_name": "Python 3",
   "language": "python",
   "name": "python3"
  },
  "language_info": {
   "codemirror_mode": {
    "name": "ipython",
    "version": 3
   },
   "file_extension": ".py",
   "mimetype": "text/x-python",
   "name": "python",
   "nbconvert_exporter": "python",
   "pygments_lexer": "ipython3",
   "version": "3.6.8"
  }
 },
 "nbformat": 4,
 "nbformat_minor": 4
}
